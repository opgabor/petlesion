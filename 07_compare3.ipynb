{
 "cells": [
  {
   "cell_type": "code",
   "execution_count": 1,
   "metadata": {
    "tags": []
   },
   "outputs": [
    {
     "name": "stderr",
     "output_type": "stream",
     "text": [
      "Loading required package: gplots\n",
      "\n",
      "\n",
      "Attaching package: ‘gplots’\n",
      "\n",
      "\n",
      "The following object is masked from ‘package:stats’:\n",
      "\n",
      "    lowess\n",
      "\n",
      "\n",
      "Loading required package: RColorBrewer\n",
      "\n",
      "corrplot 0.92 loaded\n",
      "\n"
     ]
    }
   ],
   "source": [
    "## elotte a df.csv-ben a manual-t lecsereltem w_manual-ra, hogy az abc-ben a manual a vegere keruljon, Igy jon \n",
    "#ki jol a pairwise wilcox tablazat szepen. Egyebkent a manualt betenne a tabla kozepere.\n",
    "\n",
    "#melyik csv-t olvassuk fel? \n",
    "#1.)    _bw__df.csv                                             = nincs semmi preproc\n",
    "#2.)    cut__bw__df.csv                                         = alul/felul egy-egy szelet eldobva\n",
    "#3./4.) bw_filtered__bw_0.2_df.csv, bw_filtered__bw_0.31_df.csv = 0.2/0.31-es binwidth-del, errosion + dialtion morfologia\n",
    "#5./6.) bw_cut__bw_0.2_df.csv, bw_cut__bw_0.31_df.csv,          = 0.2/0.31-es binwidth-del, alul/felul egy-egy szelet eldobva\n",
    "#7.)    filtered__bw__df.csv                                    = errosion/dilation morfologiai operatorok hasznalva\n",
    "\n",
    "prefix=\"queried_CSVs/\"\n",
    "#prefix=\"queried_CSVs/cut_\"\n",
    "#prefix=\"queried_CSVs/bw_cut_\"  #*\n",
    "#prefix=\"queried_CSVs/filtered_\"\n",
    "#prefix=\"queried_CSVs/bw_filtered_\"\n",
    "bw=''                  #ha nincs bw, akkor ezt be kell allitani ures stringre, mert az R megjegyzi a korabbi bw erteket\n",
    "#bw=0.2                 #ha a prefix bw-vel kezdodik, akkor a rekordok szama 2x annyi, mert van bin_width=0.2 es =0.31-gyel szamolt sor is\n",
    "#bw=0.31  #*\n",
    "\n",
    "show_heatmap_of_pvalues                         = TRUE\n",
    "show_corrplot_of_pvalues                        = TRUE\n",
    "show_ggboxplot_of_pvalues                       = TRUE\n",
    "show_corrplot_of_pairwise_wilcox_of_pvalues     = TRUE\n",
    "calc_fisherM_of_pvalues                         = TRUE\n",
    "calc2_fisherM_of_pvalues                        = TRUE\n",
    "calc_super_fisherM_of_pvalues                   = FALSE\n",
    "calc_sum_of_fisherM_of_pvalues                  = FALSE\n",
    "calc_distrib_of_volumes                         = TRUE\n",
    "scaling_with_minMaxMethod                       = TRUE\n",
    "\n",
    "df=read.csv(paste0(prefix,\"_bw_\",bw,\"_df.csv\"))         #cut__bw__df.csv\n",
    "#df=read.csv(\"df_nem_lyukas.2022.12.17.csv\")\n",
    "\n",
    "source(\"015_funcs.r\")"
   ]
  },
  {
   "cell_type": "code",
   "execution_count": 2,
   "metadata": {},
   "outputs": [
    {
     "name": "stdout",
     "output_type": "stream",
     "text": [
      "queried_CSVs/ _bw_  _df.csv"
     ]
    },
    {
     "data": {
      "text/html": [
       "43"
      ],
      "text/latex": [
       "43"
      ],
      "text/markdown": [
       "43"
      ],
      "text/plain": [
       "[1] 43"
      ]
     },
     "metadata": {},
     "output_type": "display_data"
    }
   ],
   "source": [
    "cat(prefix,\"_bw_\",bw,\"_df.csv\")\n",
    "length(df$study_id)/13"
   ]
  },
  {
   "cell_type": "code",
   "execution_count": 3,
   "metadata": {
    "tags": []
   },
   "outputs": [],
   "source": [
    "## db tisztitas\n",
    "#ha az adott study_id alg-okon belul valamelyik alg nincs meg, akkor beszurok egy uj rekordot es feltoltom NA-kkal\n",
    "\n",
    "#vegig megyek a study_id-kon\n",
    "for( i in sort(unique(df$study_id)))\n",
    "{\n",
    "    #ha hianyzik valamelyik segmentacios alg, akkor hozzafuzom a df-hez NA-kkal feltoltve\n",
    "    for(j in c('UT','MAJ_6_6','MAJ_6_5','MAJ_6_4','MAJ_6_3','RW','RG','AC','KM','GMM','FCM','nnunet531','w_manual'))\n",
    "    { \n",
    "        if( ! j %in% df[which(df$study_id == i),3] )  #j benne van-e az adott study_id-hez tartozo segm alg-ok kozott?\n",
    "        {\n",
    "            print(paste0(i,\",\",j))\n",
    "            tmp=df[which(df$study_id==i),][1,]  #kiszedem az elso rekordot a hianyos study_id-vel rendelkezok kozul, altalaban ez a w_manual\n",
    "            tmp[3]=j                            #bealliton a hianyzo alg-ra\n",
    "            tmp[4:length(tmp)]=NA               #minden mas erteket NA-ra allitok\n",
    "            df=rbind(df,tmp)                    #hozzafuzom az eredeti df-hez\n",
    "        }\n",
    "    }\n",
    "}\n",
    "\n",
    "\n",
    "#jelentos: \n",
    "# bw_filtered_\n",
    "# bw=0.2 -nel"
   ]
  },
  {
   "cell_type": "code",
   "execution_count": 4,
   "metadata": {
    "tags": []
   },
   "outputs": [
    {
     "data": {
      "text/html": [
       "<style>\n",
       ".list-inline {list-style: none; margin:0; padding: 0}\n",
       ".list-inline>li {display: inline-block}\n",
       ".list-inline>li:not(:last-child)::after {content: \"\\00b7\"; padding: 0 .5ex}\n",
       "</style>\n",
       "<ol class=list-inline><li>5024</li><li>380544</li></ol>\n"
      ],
      "text/latex": [
       "\\begin{enumerate*}\n",
       "\\item 5024\n",
       "\\item 380544\n",
       "\\end{enumerate*}\n"
      ],
      "text/markdown": [
       "1. 5024\n",
       "2. 380544\n",
       "\n",
       "\n"
      ],
      "text/plain": [
       "[1]   5024 380544"
      ]
     },
     "metadata": {},
     "output_type": "display_data"
    },
    {
     "data": {
      "text/html": [
       "50930.3797744186"
      ],
      "text/latex": [
       "50930.3797744186"
      ],
      "text/markdown": [
       "50930.3797744186"
      ],
      "text/plain": [
       "[1] 50930.38"
      ]
     },
     "metadata": {},
     "output_type": "display_data"
    },
    {
     "data": {
      "text/html": [
       "33432"
      ],
      "text/latex": [
       "33432"
      ],
      "text/markdown": [
       "33432"
      ],
      "text/plain": [
       "[1] 33432"
      ]
     },
     "metadata": {},
     "output_type": "display_data"
    },
    {
     "data": {
      "text/html": [
       "10.4172688041278"
      ],
      "text/latex": [
       "10.4172688041278"
      ],
      "text/markdown": [
       "10.4172688041278"
      ],
      "text/plain": [
       "[1] 10.41727"
      ]
     },
     "metadata": {},
     "output_type": "display_data"
    },
    {
     "data": {
      "text/html": [
       "'firstorder_volume'"
      ],
      "text/latex": [
       "'firstorder\\_volume'"
      ],
      "text/markdown": [
       "'firstorder_volume'"
      ],
      "text/plain": [
       "[1] \"firstorder_volume\""
      ]
     },
     "metadata": {},
     "output_type": "display_data"
    },
    {
     "data": {
      "image/png": "[encoded data removed]",
      "text/plain": [
       "Plot with title “Histogram of log10(df[which(df[, 3] == \"w_manual\"), 22])”"
      ]
     },
     "metadata": {
      "image/png": {
       "height": 420,
       "width": 420
      }
     },
     "output_type": "display_data"
    }
   ],
   "source": [
    "#a csak manualis modszer ertekei = 10ml = 10ccm alatt nem szegmentaltak a dokik, megis volt 5ml-es is.\n",
    "#a volume mm^3 -ben van merve, atlag 21000mm^3 =  21ccm = 21ml\n",
    "library(corrplot)\n",
    "range(df[which(df[,3]=='w_manual'),22])\n",
    "mean(df[which(df[,3]=='w_manual'),22])\n",
    "median(df[which(df[,3]=='w_manual'),22])\n",
    "log(median(df[which(df[,3]=='w_manual'),22]))\n",
    "colnames(df)[22]\n",
    "\n",
    "hist(log10(df[which(df[,3]=='w_manual'),22]))\n"
   ]
  },
  {
   "cell_type": "code",
   "execution_count": 5,
   "metadata": {
    "tags": []
   },
   "outputs": [
    {
     "name": "stderr",
     "output_type": "stream",
     "text": [
      "Warning message in dir.create(dn):\n",
      "“'./figurak/queried_CSVs/_bw__volumes_segmented_by_algorithms' already exists”\n"
     ]
    },
    {
     "name": "stdout",
     "output_type": "stream",
     "text": [
      "[1] \"Current working dir:  /mnt/raid6_dmis0/proj/petlesion/compare_autom-man\"\n",
      "[1] \"dir/fn: ./figurak/queried_CSVs/_bw__volumes_segmented_by_algorithms/volume_distribution__\"\n"
     ]
    },
    {
     "name": "stderr",
     "output_type": "stream",
     "text": [
      "\u001b[1m\u001b[22m`stat_bin()` using `bins = 30`. Pick better value with `binwidth`.\n",
      "Warning message:\n",
      "“\u001b[1m\u001b[22mRemoved 10 rows containing non-finite values (`stat_bin()`).”\n",
      "\u001b[1m\u001b[22m`stat_bin()` using `bins = 30`. Pick better value with `binwidth`.\n",
      "Warning message:\n",
      "“\u001b[1m\u001b[22mRemoved 10 rows containing non-finite values (`stat_bin()`).”\n"
     ]
    },
    {
     "data": {
      "text/html": [
       "<strong>png:</strong> 2"
      ],
      "text/latex": [
       "\\textbf{png:} 2"
      ],
      "text/markdown": [
       "**png:** 2"
      ],
      "text/plain": [
       "png \n",
       "  2 "
      ]
     },
     "metadata": {},
     "output_type": "display_data"
    }
   ],
   "source": [
    "#################################################\n",
    "#ez egyszerubb az elozore\n",
    "#manualis es egyes alg-ok terfogatainak eloszlasa\n",
    "if(calc_distrib_of_volumes==T)\n",
    "{\n",
    "    #ezt valamiert nem irja ki\n",
    "    range(df[,22])\n",
    "    mean(df[,22])\n",
    "    median(df[,22])\n",
    "    \n",
    "    library(\"ggplot2\")\n",
    "   \n",
    "    tmp=data.frame(log10(df[,22]), df[,3]) # a volume mm^3 -ben van merve, atlag 21000mm^3 =  21ccm = 21ml\n",
    "    colnames(tmp)=c(\"log10_of_tumour_volume\",\"segmentation_method\")\n",
    "    #X11()\n",
    "    #p=ggplot(data = tmp) + ggtitle(\"log10 of manual and segm algs volumes\") + \n",
    "    p=ggplot(data = tmp) + \n",
    "    geom_histogram(aes(x = log10_of_tumour_volume), colour = \"black\", fill = \"white\") + \n",
    "    labs( x = \"tumour volume (log_10 scale)\", y = \"count\")+\n",
    "    theme(axis.text = element_text( color=\"#000000\", size=16, angle=0),strip.text = element_text(size=20),axis.title=element_text(size = 20))+           #facet szovegmeret\n",
    "    facet_wrap(~ segmentation_method)\n",
    "    \n",
    "    dn=paste0(\"./figurak/\",prefix,\"_bw_\",bw,\"_volumes_segmented_by_algorithms/\")\n",
    "    dir.create(dn)\n",
    "    fn=paste0(\"volume_distribution_\",\"_\")   # excluded = ki van zarva egy par first order parameter\n",
    "    \n",
    "    print(paste(\"Current working dir: \", getwd()))\n",
    "    print(paste0(\"dir/fn: \",dn,fn))\n",
    "\n",
    "    png(file=paste0(dn,fn,\".png\"),width=1000,height=1000)\n",
    "    print(p)\n",
    "    dev.off()\n",
    "    \n",
    "    cairo_ps(file=paste0(dn,fn,\".eps\")) #,width=1000,height=1000\n",
    "    print(p)\n",
    "    dev.off()\n",
    "    \n",
    "}\n",
    "\n",
    "#3D\n",
    "#x=seq(1,11)\n",
    "#y=seq(1,7)\n",
    "#z=-log10(t(fm))\n",
    "#persp(x,y,z,main=\"title\", zlab = \"-log Fisher parameter\",theta = 30, phi = 30,col = rainbow(max(z)+1,alpha=1)[z[-1,-1]+1], shade = 0.4,border = NA, box = TRUE)"
   ]
  },
  {
   "cell_type": "code",
   "execution_count": 6,
   "metadata": {},
   "outputs": [],
   "source": [
    "#A first order parameterek kozul melyik fog legjobban vagy legkevesbe korrelalni a manualis modszerrel\n",
    "\n",
    "#grafikai setup\n",
    "options(repr.plot.width=10, repr.plot.height=10,repr.plot.pointsize=20)\n",
    "\n",
    "#kivalasztom azokat a firstorder paramokat, amiknek nagy a szorasa es elrontja a fisher corrplot-ot =\n",
    "#= a firstorder nagyon elter a tobbitol\n",
    "#'w_manual''ut''maj_6_6''maj_6_5''maj_6_4''maj_6_3''rw''rg''ac''km''gmm''fcm'\n",
    "#ut = union of two  rg & fcm\n",
    "\n",
    "#radiomicsGroupNames = c(\"firstorder\",\"glcm\",\"shape\",\"glszm\",\"glrlm\",\"ngtdm\",\"gldm\")\n",
    "indices=grep(paste0(\"firstorder\",\"_.*\"), colnames(df))   #1,2,...,19\n",
    "\n",
    "#manual_szegmentalas ezzel fogok minden egyebet korrellatatni\n",
    "man=df[which(df$segmentation_method==\"w_manual\"),indices] # 43 x 19, 43 patients 19 first order params\n",
    "\n",
    "#ez annyiszor fut le ahany oszlopa van a bemeneti matrixnak (apply 2. parameter = 2)\n",
    "corr = function(dat){\n",
    "    i<<-i+1\n",
    "    #cor(dat,man[,i],use=\"everything\")                  #d2 csupa <NA>\n",
    "    #cor(dat,man[,i],use=\"all.obs\")                     #error\n",
    "    #cor(dat,man[,i],use=\"complete.obs\")                #error\n",
    "    #cor(dat,man[,i],use=\"na.or.complete\")              #firstorder_10percentile0.137854562661963firstorder_90percentile-0.139263292016382firstorder_energy-0.0075...\n",
    "    cor(dat,man[,i],use=\"pairwise.complete.obs\")        #firstorder_10percentile0.137854562661963firstorder_90percentile-0.139263292016382firstorder_energy-0.007552431...\n",
    "}\n",
    "# If ‘use’ is \n",
    "# ‘\"everything\"’, ‘NA’s will propagate conceptually, i.e., a resulting value will be ‘NA’ whenever one of its contributing observations is ‘NA’.\n",
    "# ‘\"all.obs\"’, then the presence of missing observations will produce an error.  \n",
    "# ‘\"complete.obs\"’ then missing values are handled by casewise deletion (and if there are no complete cases, that gives an error).\n",
    "# ‘\"na.or.complete\"’ is the same unless there are no complete cases, that gives ‘NA’.\n",
    "# ‘\"pairwise.complete.obs\"’ then the correlation or covariance between each pair of variables is computed using all complete\n",
    "#    pairs of observations on those variables.  This can result in covariance or correlation matrices which are not positive\n",
    "#    semi-definite, as well as ‘NA’ entries if there are no complete pairs for that pair of variables.  For ‘cov’ and ‘var’,\n",
    "# ‘\"pairwise.complete.obs\"’ only works with the ‘\"pearson\"’ method.\n",
    "# Note that (the equivalent of) ‘var(double(0), use = *)’ gives ‘NA’ for ‘use = \"everything\"’ and ‘\"na.or.complete\"’, and gives an error in the other cases.\n",
    "\n",
    "\n",
    "test = function(aggregated_fun){\n",
    "    i<<-0;d1<<-apply(man,2,aggregated_fun)  #first order parameterenkent aggregalok\n",
    "    i<<-0;d2<<-apply(df[which(df$segmentation_method==\"UT\"),indices],2,aggregated_fun)\n",
    "    i<<-0;d3<<-apply(df[which(df$segmentation_method==\"MAJ_6_6\"),indices],2,aggregated_fun)\n",
    "    i<<-0;d4<<-apply(df[which(df$segmentation_method==\"MAJ_6_5\"),indices],2,aggregated_fun)\n",
    "    i<<-0;d5<<-apply(df[which(df$segmentation_method==\"MAJ_6_4\"),indices],2,aggregated_fun)\n",
    "    i<<-0;d6<<-apply(df[which(df$segmentation_method==\"MAJ_6_3\"),indices],2,aggregated_fun)\n",
    "    i<<-0;d7<<-apply(df[which(df$segmentation_method==\"RW\"),indices],2,aggregated_fun)\n",
    "    i<<-0;d8<<-apply(df[which(df$segmentation_method==\"RG\"),indices],2,aggregated_fun)\n",
    "    i<<-0;d9<<-apply(df[which(df$segmentation_method==\"AC\"),indices],2,aggregated_fun)\n",
    "    i<<-0;da<<-apply(df[which(df$segmentation_method==\"KM\"),indices],2,aggregated_fun)\n",
    "    i<<-0;db<<-apply(df[which(df$segmentation_method==\"GMM\"),indices],2,aggregated_fun)\n",
    "    i<<-0;dc<<-apply(df[which(df$segmentation_method==\"FCM\"),indices],2,aggregated_fun)\n",
    "    i<<-0;dd<<-apply(df[which(df$segmentation_method==\"nnunet531\"),indices],2,aggregated_fun)\n",
    "}\n",
    "\n",
    "#test(var)  #cov = sd^2 = sigma^2_xx\n",
    "#test(sum)\n",
    "#test(sd)\n",
    "#test(mean)\n",
    "test(corr)\n",
    "\n",
    "#folyt. kov. cellaban"
   ]
  },
  {
   "cell_type": "code",
   "execution_count": 7,
   "metadata": {},
   "outputs": [
    {
     "name": "stderr",
     "output_type": "stream",
     "text": [
      "Warning message:\n",
      "“\u001b[1m\u001b[22mVectorized input to `element_text()` is not officially supported.\n",
      "\u001b[36mℹ\u001b[39m Results may be unexpected or may change in future versions of ggplot2.”\n",
      "Warning message in dir.create(dn):\n",
      "“'./figurak/queried_CSVs/_bw__histogram_of_correlation_of_man_and_algi' already exists”\n"
     ]
    },
    {
     "data": {
      "text/html": [
       "<strong>png:</strong> 2"
      ],
      "text/latex": [
       "\\textbf{png:} 2"
      ],
      "text/markdown": [
       "**png:** 2"
      ],
      "text/plain": [
       "png \n",
       "  2 "
      ]
     },
     "metadata": {},
     "output_type": "display_data"
    }
   ],
   "source": [
    "#elobbi cella folytatasa\n",
    "\n",
    "n=length(d1)\n",
    "\n",
    "#pname = param's name\n",
    "xd1=data.frame(pname=names(d1),val=as.numeric((d1)),meth=rep(\"manual\",n))\n",
    "xd2=data.frame(pname=names(d2),val=as.numeric((d2)),meth=rep(\"UT\",n))\n",
    "xd3=data.frame(pname=names(d3),val=as.numeric((d3)),meth=rep(\"MAJ_6_6\",n))\n",
    "xd4=data.frame(pname=names(d4),val=as.numeric((d4)),meth=rep(\"MAJ_6_5\",n))\n",
    "xd5=data.frame(pname=names(d5),val=as.numeric((d5)),meth=rep(\"MAJ_6_4\",n))\n",
    "xd6=data.frame(pname=names(d6),val=as.numeric((d6)),meth=rep(\"MAJ_6_3\",n))\n",
    "xd7=data.frame(pname=names(d7),val=as.numeric((d7)),meth=rep(\"RW\",n))\n",
    "xd8=data.frame(pname=names(d8),val=as.numeric((d8)),meth=rep(\"RG\",n))\n",
    "xd9=data.frame(pname=names(d9),val=as.numeric((d9)),meth=rep(\"AC\",n))\n",
    "xda=data.frame(pname=names(da),val=as.numeric((da)),meth=rep(\"KM\",n))\n",
    "xdb=data.frame(pname=names(db),val=as.numeric((db)),meth=rep(\"GMM\",n))\n",
    "xdc=data.frame(pname=names(dc),val=as.numeric((dc)),meth=rep(\"FCM\",n))\n",
    "xdd=data.frame(pname=names(dd),val=as.numeric((dd)),meth=rep(\"nnunet531\",n))\n",
    "xdall=rbind(xd1,xd2,xd3,xd4,xd5,xd6,xd7,xd8,xd9,xda,xdb,xdc,xdd)\n",
    "\n",
    "library(\"ggplot2\")\n",
    "#ezek lesznek pirossal szinezve, a tobbi marad fekete ld.: colour = a\n",
    "a <- ifelse(  xdall$pname == \"firstorder_10percentile\" | xdall$pname == \"firstorder_minimum\"  | xdall$pname == \"firstorder_median\"\n",
    "            | xdall$pname == \"firstorder_volume\"       | xdall$pname == \"firstorder_kurtosis\" | xdall$pname == \"firstorder_skewness\"\n",
    "            | xdall$pname == \"firstorder_uniformity\",  \"red\", \"black\")\n",
    "legends=c(\"manual\",\"RW\",\"AC\",\"KM\",\"GMM\",\"RG\",\"FCM\",\"UT\",\"MAJ_6_3\",\"MAJ_6_4\",\"MAJ_6_5\",\"MAJ_6_6\",\"nnunet531\")\n",
    "#Az 1 sor missing value azert van, mert az osszes ut a firstorder_minimumra = 0, ennek a manualissal a korrelacioja = NA.\n",
    "#Standard dev=0 -> correlacio = NA.\n",
    "#       pname\t            val\tmeth\n",
    "#30\t    firstorder_minimum\tNA\tut\n",
    "\n",
    "#rg es maj_6_6 NA-kat tartalmaz, ezeket a use=\"complete.obs\"-szal utom ki \n",
    "p = ggplot(xdall,aes(pname,val,fill=factor(meth,legends))) + geom_col(position = \"dodge\")\n",
    "p = p + coord_flip()\n",
    "p = p + theme(text = element_text(size = 20)) \n",
    "p = p + theme(axis.text.y = element_text(angle = 0, hjust = 1, colour = a))\n",
    "#p = p + labs(y = NULL, x = \"parameter\", title = \"correlation of algorithmic and manual segmentation\", fill = \"segm.meth\")     \n",
    "p = p + labs(y = NULL, x = \"parameter\", fill = \"segm.meth\")     \n",
    "    \n",
    "dn=paste0(\"./figurak/\",prefix,\"_bw_\",bw,\"_histogram_of_correlation_of_man_and_algi/\")\n",
    "dir.create(dn)\n",
    "fn=paste0(\"correlation_of_algorithmic_and_manual_segmentation\",\"_\")\n",
    "png(file=paste0(dn,fn,\".png\"),width=1000,height=1000)\n",
    "p\n",
    "dev.off()"
   ]
  },
  {
   "cell_type": "code",
   "execution_count": 8,
   "metadata": {
    "tags": []
   },
   "outputs": [],
   "source": [
    "#ezeket kihagyom, hogy a first_order parameterek ne legyenek annyira különbözőek (jobbak) a többitől\n",
    " df$firstorder_10percentile=NULL\n",
    " #df$firstorder_90percentile=NULL\n",
    "#df$firstorder_energy=NULL\n",
    "#df$firstorder_entropy=NULL\n",
    "#df$firstorder_interquartilerange=NULL\n",
    " df$firstorder_kurtosis=NULL\n",
    " \n",
    " df$firstorder_minimum=NULL\n",
    " #df$firstorder_maximum=NULL\n",
    "\n",
    "#df$firstorder_meanabsolutedeviation=NULL\n",
    "# df$firstorder_mean=NULL\n",
    " df$firstorder_median=NULL\n",
    "\n",
    " #df$firstorder_range=NULL\n",
    "\n",
    "#df$firstorder_robustmeanabsolutedeviation=NULL\n",
    "#df$firstorder_rootmeansquared=NULL\n",
    "df$firstorder_skewness=NULL\n",
    "#df$firstorder_totalenergy=NULL\n",
    "\n",
    "df$firstorder_uniformity=NULL\n",
    "#df$firstorder_variance=NULL\n",
    " df$firstorder_volume=NULL"
   ]
  },
  {
   "cell_type": "code",
   "execution_count": 9,
   "metadata": {},
   "outputs": [
    {
     "name": "stdout",
     "output_type": "stream",
     "text": [
      "[1] \"-------------------------------------------------------------------------------------------------------------------\"\n",
      "[1] \"hold normal distribution, inserting +1, and generate a list of to be eliminated, NOT normal, params, insering -1\"\n",
      "[1] \"-------------------------------------------------------------------------------------------------------------------\"\n"
     ]
    }
   ],
   "source": [
    "#In Fisher method only normal distributions can be used\n",
    "# check the normality of radiomic parameters\n",
    "print(\"-------------------------------------------------------------------------------------------------------------------\")\n",
    "print(\"hold normal distribution, inserting +1, and generate a list of to be eliminated, NOT normal, params, insering -1\")\n",
    "print(\"-------------------------------------------------------------------------------------------------------------------\")\n",
    "segmMethodNames = as.character(unique(df$segmentation_method))\n",
    "goodOrnot=data.frame(matrix(-1,ncol(df)-3,length(segmMethodNames)))\n",
    "colnames(goodOrnot)=segmMethodNames\n",
    "rownames(goodOrnot)=colnames(df[4:length(df)])\n",
    "for (s in segmMethodNames){\n",
    "    for (p in 4:ncol(df)){   #df columns: parameters, lines algorithms, first 3 columns are administrative ones\n",
    "        #print(p)\n",
    "        #hist(df[which(df[,3]=='fcm'),which(colnames(df)=='gldm_lowgraylevelemphasis')])\n",
    "        norm=shapiro.test(df[which(df[,3]==s),p])$p.value\n",
    "        if(norm>=0.05)\n",
    "        {\n",
    "            #print(paste0(p-3,\",\",colnames(df)[p],\": \",norm))\n",
    "            goodOrnot[p-3,s]=1 #mert az elso harom oszlop: study_instance_uid,study_id,segmentation_method\n",
    "        }\n",
    "    }\n",
    "}\n",
    "#goodOrnot"
   ]
  },
  {
   "cell_type": "code",
   "execution_count": 10,
   "metadata": {},
   "outputs": [
    {
     "data": {
      "text/html": [
       "<table class=\"dataframe\">\n",
       "<caption>A data.frame: 10 × 13</caption>\n",
       "<thead>\n",
       "\t<tr><th></th><th scope=col>AC</th><th scope=col>FCM</th><th scope=col>GMM</th><th scope=col>KM</th><th scope=col>MAJ_6_3</th><th scope=col>MAJ_6_4</th><th scope=col>MAJ_6_5</th><th scope=col>MAJ_6_6</th><th scope=col>w_manual</th><th scope=col>nnunet531</th><th scope=col>RG</th><th scope=col>RW</th><th scope=col>UT</th></tr>\n",
       "\t<tr><th></th><th scope=col>&lt;dbl&gt;</th><th scope=col>&lt;dbl&gt;</th><th scope=col>&lt;dbl&gt;</th><th scope=col>&lt;dbl&gt;</th><th scope=col>&lt;dbl&gt;</th><th scope=col>&lt;dbl&gt;</th><th scope=col>&lt;dbl&gt;</th><th scope=col>&lt;dbl&gt;</th><th scope=col>&lt;dbl&gt;</th><th scope=col>&lt;dbl&gt;</th><th scope=col>&lt;dbl&gt;</th><th scope=col>&lt;dbl&gt;</th><th scope=col>&lt;dbl&gt;</th></tr>\n",
       "</thead>\n",
       "<tbody>\n",
       "\t<tr><th scope=row>firstorder_90percentile</th><td> 1</td><td> 1</td><td> 1</td><td> 1</td><td> 1</td><td> 1</td><td> 1</td><td> 1</td><td> 1</td><td> 1</td><td> 1</td><td> 1</td><td> 1</td></tr>\n",
       "\t<tr><th scope=row>firstorder_energy</th><td>-1</td><td>-1</td><td>-1</td><td>-1</td><td>-1</td><td>-1</td><td>-1</td><td>-1</td><td>-1</td><td>-1</td><td>-1</td><td>-1</td><td>-1</td></tr>\n",
       "\t<tr><th scope=row>firstorder_entropy</th><td> 1</td><td>-1</td><td> 1</td><td>-1</td><td>-1</td><td> 1</td><td> 1</td><td> 1</td><td>-1</td><td> 1</td><td> 1</td><td> 1</td><td>-1</td></tr>\n",
       "\t<tr><th scope=row>firstorder_interquartilerange</th><td> 1</td><td> 1</td><td>-1</td><td> 1</td><td> 1</td><td> 1</td><td>-1</td><td>-1</td><td> 1</td><td> 1</td><td> 1</td><td>-1</td><td> 1</td></tr>\n",
       "\t<tr><th scope=row>firstorder_maximum</th><td> 1</td><td> 1</td><td> 1</td><td> 1</td><td> 1</td><td> 1</td><td> 1</td><td> 1</td><td> 1</td><td> 1</td><td> 1</td><td> 1</td><td> 1</td></tr>\n",
       "\t<tr><th scope=row>firstorder_meanabsolutedeviation</th><td> 1</td><td> 1</td><td>-1</td><td> 1</td><td> 1</td><td> 1</td><td> 1</td><td> 1</td><td> 1</td><td> 1</td><td> 1</td><td> 1</td><td> 1</td></tr>\n",
       "\t<tr><th scope=row>firstorder_mean</th><td> 1</td><td> 1</td><td> 1</td><td> 1</td><td> 1</td><td> 1</td><td> 1</td><td> 1</td><td> 1</td><td> 1</td><td>-1</td><td> 1</td><td> 1</td></tr>\n",
       "\t<tr><th scope=row>firstorder_range</th><td>-1</td><td>-1</td><td> 1</td><td>-1</td><td>-1</td><td>-1</td><td>-1</td><td> 1</td><td> 1</td><td> 1</td><td> 1</td><td>-1</td><td> 1</td></tr>\n",
       "\t<tr><th scope=row>firstorder_robustmeanabsolutedeviation</th><td> 1</td><td> 1</td><td>-1</td><td> 1</td><td> 1</td><td> 1</td><td>-1</td><td> 1</td><td> 1</td><td> 1</td><td> 1</td><td>-1</td><td> 1</td></tr>\n",
       "\t<tr><th scope=row>firstorder_rootmeansquared</th><td> 1</td><td> 1</td><td> 1</td><td> 1</td><td> 1</td><td> 1</td><td> 1</td><td> 1</td><td> 1</td><td> 1</td><td> 1</td><td> 1</td><td> 1</td></tr>\n",
       "</tbody>\n",
       "</table>\n"
      ],
      "text/latex": [
       "A data.frame: 10 × 13\n",
       "\\begin{tabular}{r|lllllllllllll}\n",
       "  & AC & FCM & GMM & KM & MAJ\\_6\\_3 & MAJ\\_6\\_4 & MAJ\\_6\\_5 & MAJ\\_6\\_6 & w\\_manual & nnunet531 & RG & RW & UT\\\\\n",
       "  & <dbl> & <dbl> & <dbl> & <dbl> & <dbl> & <dbl> & <dbl> & <dbl> & <dbl> & <dbl> & <dbl> & <dbl> & <dbl>\\\\\n",
       "\\hline\n",
       "\tfirstorder\\_90percentile &  1 &  1 &  1 &  1 &  1 &  1 &  1 &  1 &  1 &  1 &  1 &  1 &  1\\\\\n",
       "\tfirstorder\\_energy & -1 & -1 & -1 & -1 & -1 & -1 & -1 & -1 & -1 & -1 & -1 & -1 & -1\\\\\n",
       "\tfirstorder\\_entropy &  1 & -1 &  1 & -1 & -1 &  1 &  1 &  1 & -1 &  1 &  1 &  1 & -1\\\\\n",
       "\tfirstorder\\_interquartilerange &  1 &  1 & -1 &  1 &  1 &  1 & -1 & -1 &  1 &  1 &  1 & -1 &  1\\\\\n",
       "\tfirstorder\\_maximum &  1 &  1 &  1 &  1 &  1 &  1 &  1 &  1 &  1 &  1 &  1 &  1 &  1\\\\\n",
       "\tfirstorder\\_meanabsolutedeviation &  1 &  1 & -1 &  1 &  1 &  1 &  1 &  1 &  1 &  1 &  1 &  1 &  1\\\\\n",
       "\tfirstorder\\_mean &  1 &  1 &  1 &  1 &  1 &  1 &  1 &  1 &  1 &  1 & -1 &  1 &  1\\\\\n",
       "\tfirstorder\\_range & -1 & -1 &  1 & -1 & -1 & -1 & -1 &  1 &  1 &  1 &  1 & -1 &  1\\\\\n",
       "\tfirstorder\\_robustmeanabsolutedeviation &  1 &  1 & -1 &  1 &  1 &  1 & -1 &  1 &  1 &  1 &  1 & -1 &  1\\\\\n",
       "\tfirstorder\\_rootmeansquared &  1 &  1 &  1 &  1 &  1 &  1 &  1 &  1 &  1 &  1 &  1 &  1 &  1\\\\\n",
       "\\end{tabular}\n"
      ],
      "text/markdown": [
       "\n",
       "A data.frame: 10 × 13\n",
       "\n",
       "| <!--/--> | AC &lt;dbl&gt; | FCM &lt;dbl&gt; | GMM &lt;dbl&gt; | KM &lt;dbl&gt; | MAJ_6_3 &lt;dbl&gt; | MAJ_6_4 &lt;dbl&gt; | MAJ_6_5 &lt;dbl&gt; | MAJ_6_6 &lt;dbl&gt; | w_manual &lt;dbl&gt; | nnunet531 &lt;dbl&gt; | RG &lt;dbl&gt; | RW &lt;dbl&gt; | UT &lt;dbl&gt; |\n",
       "|---|---|---|---|---|---|---|---|---|---|---|---|---|---|\n",
       "| firstorder_90percentile |  1 |  1 |  1 |  1 |  1 |  1 |  1 |  1 |  1 |  1 |  1 |  1 |  1 |\n",
       "| firstorder_energy | -1 | -1 | -1 | -1 | -1 | -1 | -1 | -1 | -1 | -1 | -1 | -1 | -1 |\n",
       "| firstorder_entropy |  1 | -1 |  1 | -1 | -1 |  1 |  1 |  1 | -1 |  1 |  1 |  1 | -1 |\n",
       "| firstorder_interquartilerange |  1 |  1 | -1 |  1 |  1 |  1 | -1 | -1 |  1 |  1 |  1 | -1 |  1 |\n",
       "| firstorder_maximum |  1 |  1 |  1 |  1 |  1 |  1 |  1 |  1 |  1 |  1 |  1 |  1 |  1 |\n",
       "| firstorder_meanabsolutedeviation |  1 |  1 | -1 |  1 |  1 |  1 |  1 |  1 |  1 |  1 |  1 |  1 |  1 |\n",
       "| firstorder_mean |  1 |  1 |  1 |  1 |  1 |  1 |  1 |  1 |  1 |  1 | -1 |  1 |  1 |\n",
       "| firstorder_range | -1 | -1 |  1 | -1 | -1 | -1 | -1 |  1 |  1 |  1 |  1 | -1 |  1 |\n",
       "| firstorder_robustmeanabsolutedeviation |  1 |  1 | -1 |  1 |  1 |  1 | -1 |  1 |  1 |  1 |  1 | -1 |  1 |\n",
       "| firstorder_rootmeansquared |  1 |  1 |  1 |  1 |  1 |  1 |  1 |  1 |  1 |  1 |  1 |  1 |  1 |\n",
       "\n"
      ],
      "text/plain": [
       "                                       AC FCM GMM KM MAJ_6_3 MAJ_6_4 MAJ_6_5\n",
       "firstorder_90percentile                 1  1   1   1  1       1       1     \n",
       "firstorder_energy                      -1 -1  -1  -1 -1      -1      -1     \n",
       "firstorder_entropy                      1 -1   1  -1 -1       1       1     \n",
       "firstorder_interquartilerange           1  1  -1   1  1       1      -1     \n",
       "firstorder_maximum                      1  1   1   1  1       1       1     \n",
       "firstorder_meanabsolutedeviation        1  1  -1   1  1       1       1     \n",
       "firstorder_mean                         1  1   1   1  1       1       1     \n",
       "firstorder_range                       -1 -1   1  -1 -1      -1      -1     \n",
       "firstorder_robustmeanabsolutedeviation  1  1  -1   1  1       1      -1     \n",
       "firstorder_rootmeansquared              1  1   1   1  1       1       1     \n",
       "                                       MAJ_6_6 w_manual nnunet531 RG RW UT\n",
       "firstorder_90percentile                 1       1        1         1  1  1\n",
       "firstorder_energy                      -1      -1       -1        -1 -1 -1\n",
       "firstorder_entropy                      1      -1        1         1  1 -1\n",
       "firstorder_interquartilerange          -1       1        1         1 -1  1\n",
       "firstorder_maximum                      1       1        1         1  1  1\n",
       "firstorder_meanabsolutedeviation        1       1        1         1  1  1\n",
       "firstorder_mean                         1       1        1        -1  1  1\n",
       "firstorder_range                        1       1        1         1 -1  1\n",
       "firstorder_robustmeanabsolutedeviation  1       1        1         1 -1  1\n",
       "firstorder_rootmeansquared              1       1        1         1  1  1"
      ]
     },
     "metadata": {},
     "output_type": "display_data"
    }
   ],
   "source": [
    "goodOrnot[1:10,]"
   ]
  },
  {
   "cell_type": "code",
   "execution_count": 11,
   "metadata": {},
   "outputs": [
    {
     "name": "stderr",
     "output_type": "stream",
     "text": [
      "Loading required package: lattice\n",
      "\n"
     ]
    },
    {
     "name": "stdout",
     "output_type": "stream",
     "text": [
      "[1] \"scaling_with_minMaxMethod\"\n"
     ]
    }
   ],
   "source": [
    "if(scaling_with_minMaxMethod==TRUE)\n",
    "{\n",
    "    #With Min-Max Scaling, we scale the data values between a range of 0 to 1 only. Due to this, \n",
    "    #the effect of outliers on the data values suppresses to a certain extent. Moreover, it helps us \n",
    "    #have a smaller value of the standard deviation of the data scale.\n",
    "    #https://www.digitalocean.com/community/tutorials/normalize-data-in-r\n",
    "    #install.packages(\"caret\")\n",
    "    library(\"caret\")\n",
    "    pproc = preProcess(df, method=c(\"range\"))\n",
    "    df_norm = predict(pproc,df)\n",
    "    df=df_norm\n",
    "    print(\"scaling_with_minMaxMethod\")\n",
    "} else {\n",
    "    #scaling_with_standardization\n",
    "    #In Standard scaling, also known as Standardization of values, we scale the data values such that \n",
    "    #the overall statistical summary of every variable has a mean value of zero and an unit variance value.\n",
    "    df_norm = as.data.frame(scale(df[,4:ncol(df)]))\n",
    "    df[,4:ncol(df)] = df_norm\n",
    "    print(\"scaling_with_standardization\")\n",
    "}"
   ]
  },
  {
   "cell_type": "code",
   "execution_count": 12,
   "metadata": {},
   "outputs": [],
   "source": [
    "#study_instance_uid study_id segmentation_method firstorder_10percentile firstorder_90percentile firstorder_energy firstorder_entropy firstorder_interquartilerange firstorder_kurtosis fir\n",
    "#42174574200751            7            w_manual                  1.6831                  6.4405          32983.67             3.0571                        2.4556              3.7615\n",
    "#42174574200751            7                 FCM                  3.4361                  7.8697          27040.65             3.0671                        2.3989              2.7356\n",
    "#42174574200751            7                 GMM                  5.1152                  8.5798          19878.61             3.0282                        2.0694              2.4336\n",
    "#42174574200751            7                  KM                  3.2653                  7.7676          27681.76             3.0329                        2.4551              2.7885"
   ]
  },
  {
   "cell_type": "code",
   "execution_count": 13,
   "metadata": {
    "tags": []
   },
   "outputs": [],
   "source": [
    "segmMethodNames = as.character(unique(df$segmentation_method))  #'AC''FCM''GMM''KM''MAJ_6_3''MAJ_6_4''MAJ_6_5''MAJ_6_6''nnunet531''RG''RW''UT' 'w_manual'\n",
    "segmMethodNames = segmMethodNames[segmMethodNames!=\"w_manual\"]  #kiszedem a manualis modszert\n",
    "radiomicsGroupNames = c(\"firstorder\",\"glcm\",\"shape\",\"glszm\",\"glrlm\",\"ngtdm\",\"gldm\")\n",
    "            \n",
    "#Fisher modszerhez eredmenyeinek tarolasahoz matrix helyfoglalas\n",
    "fm = matrix(0,nrow=length(radiomicsGroupNames),ncol=length(segmMethodNames)-0) # 7: ennyi radmics csoport van, az oszlopok szamaban azert van -0, mert korabban a manualist manualishoz nem\n",
    "\n",
    "#######################################################################\n",
    "#itt gyujtom ossze az osszes radiomics parameterhez tartozo p ertekeket\n",
    "PVals = data.frame(matrix(0,nrow=length(colnames(df))-3,ncol=length(segmMethodNames))) #-3 azert mert az 4. oszloptol jonnek a rad. params.\n",
    "colnames(PVals) = segmMethodNames"
   ]
  },
  {
   "cell_type": "code",
   "execution_count": 14,
   "metadata": {
    "tags": []
   },
   "outputs": [
    {
     "name": "stdout",
     "output_type": "stream",
     "text": [
      "[1] \"radiomicsGroupName:  firstorder\"\n",
      "\n",
      "i 4\n",
      "i 5\n",
      "i 6\n",
      "i 7\n",
      "i 8\n",
      "i 9\n",
      "i 10\n",
      "i 11\n",
      "i 12\n",
      "i 13\n",
      "i 14\n",
      "i 15\n",
      "[1] \"show_heatmap_of_pvalues\"\n",
      "[1] \"show_corrplot_of_pvalues\"\n",
      "[1] \"show_ggboxplot_of_pvalues | show_corrplot_of_pairwise_wilcox_of_pvalues\"\n"
     ]
    },
    {
     "ename": "ERROR",
     "evalue": "Error in `[.data.frame`(dfres, , i1): undefined columns selected\n",
     "output_type": "error",
     "traceback": [
      "Error in `[.data.frame`(dfres, , i1): undefined columns selected\nTraceback:\n",
      "1. data.frame(-log(dfres[, i1]), colnames(dfres)[i1])",
      "2. dfres[, i1]",
      "3. `[.data.frame`(dfres, , i1)",
      "4. stop(\"undefined columns selected\")"
     ]
    }
   ],
   "source": [
    "oldw <- getOption(\"warn\") #regi warning beallitasok lemasolasa\n",
    "options(warn = -1)        #warnings kikapcs\n",
    "\n",
    "#########################################################################################\n",
    "#az itt kovetkezo for ciklusban csak egy rad param group-ba tartozo ertkekkel foglalkozok\n",
    "#vegig megyek az oszlopokon = radiomics parametreken. Ezek lesznek az eredmeny matrix (pValues) sorai\n",
    "#for(i in from:length(colnames(df)) )\n",
    "#vegig megyek az oszlop csoportokon = radiomics parameter csoportokon. Ezek lesznek az eredmeny matrix (pValues) sorai\n",
    "cntr=0  #to fill the PVals matrix properly\n",
    "for( radiomicsGroupName in radiomicsGroupNames )\n",
    "{\n",
    "    print(paste(\"radiomicsGroupName: \",radiomicsGroupName))\n",
    "    radParamsInGroup = grep(paste0(radiomicsGroupName,\"_.*\"), colnames(df))     #indexeket ad vissza, pl.:  8  9 10 11 12 13 14 15 16 17 18 19 20 21 22 23 24 25\n",
    "    from=radParamsInGroup[1]\n",
    "    #placeholder radiomics csoportonkent felulirodik\n",
    "    pValues = matrix(0,nrow=length( radParamsInGroup ),ncol=length(segmMethodNames)) #oszlopok szamaban azert van -1, mert a manualist manualishoz nem hasonlitom\n",
    "    #adott csoporton belul kiszedek minden parametert\n",
    "    for(i in radParamsInGroup )\n",
    "    {\n",
    "        cat(\"\\ni\",i)\n",
    "        #minden betegtol osszegyujtom a manualis modszerre es az i-vel jelolt aktualis rdiomics parameterre vonatkozo radiomics parametereket\n",
    "        manualRadParams=df[ which(df[,3]==\"w_manual\"), i ]              #43 elemu vektor = ahany paciens van, pl.: i = \"firstorder_10percentile\"\n",
    "        for(j in 1:length(segmMethodNames))                             #nincs benne a manualis\n",
    "        {\n",
    "            #vegig megyek a sorokon, amik egy faktor valtozo (1,2,3,4,5,6,7,8,9,10,{FCM,GMM,KM,stb}), ennek csak a kulonbozo elemeit veszem ki\n",
    "            segmMethodName = segmMethodNames[j]\n",
    "            #minden betegtol osszegyujtom az aktualis segm. modszerre es az i-vel jelolt aktualis rdiomics parameterre vonatkozo radiomics parametereket\n",
    "            segmMethodRadParams = df[ which(df[,3]==segmMethodName), i ]        #szinten 43 elemu vektor, jobb hijan neha csak 38 pl. a \"MAJ_6_6\"-nal, ott amiatt, hogy az rg 2 esetben nem mukodott maj_6_6 sem keletkezett\n",
    "            #print(paste0(as.character(i),\", manual-\", segmMethodName ));\n",
    "            #es osszehasonlitom a manualis roi-n belul szamolt radiomics parametereket a kulonbozo szegmentacios modszerekkel keszult roikon beluli radiomics parameterekkel\n",
    "            #test      = pairwise.wilcox.test(df[,i],df$segmentation_method)$p.value[10,]\n",
    "\n",
    "            # Wilcokoxon test akkor hasznalhato, ha a mintak nem tesznek eleget a normalitas vizsgalatnak\n",
    "            # Ekkor a student T proba helyett ez jo. Valami olyasmit csinal, hogy atrendezi az adatokat,\n",
    "            # hozzatesz valamilyen szempont szerint...\n",
    "            # ket eloszlas tavolsagat hatarozza meg\n",
    "            test      = wilcox.test(manualRadParams,segmMethodRadParams,exact=FALSE)$p.value\n",
    "\n",
    "            pvalue   = as.numeric( test );\n",
    "            #pValues[i-from+1,j-1] = pvalue\n",
    "            pValues[i-from+1,j] = pvalue        #pValues: soronkent toltom fel, egy sor = egy param. Egy sorban algoritmusonkent toltok fel. Dimenzio = parameterekszama x algoritmusok szama\n",
    "        }\n",
    "        cntr = cntr + 1\n",
    "        PVals[cntr,] = pValues[i-from+1,]               #egy sor egy param, egy oszlop egy alg\n",
    "        rownames(PVals)[cntr]=colnames(df)[i]           #rad paramsbol szedegetem ki\n",
    "    }#end of rad params in a specific group\n",
    "\n",
    "    #ebben csak az aktualis csoporbeli rad. parameterek szerepelnek\n",
    "    colnames(pValues) = segmMethodNames\n",
    "    rownames(pValues) = colnames(df[,radParamsInGroup])\n",
    "\n",
    "    #head(dfres[1:10,1:10])\n",
    "    #                                       FCM          GMM           KM           AC          RG           RW      MAJ_6_3      MAJ_6_4      MAJ_6_5      MAJ_6_6\n",
    "    #firstorder_10percentile       1.054852e-11 2.987034e-20 2.770514e-11 1.054852e-11 0.001278102 8.781316e-16 8.948429e-12 1.340985e-13 7.198637e-17 2.137595e-20\n",
    "    #firstorder_90percentile       2.115973e-01 1.088371e-02 2.380338e-01 1.902470e-01 0.789953864 5.829643e-02 2.084465e-01 1.379511e-01 5.060634e-02 8.909926e-03\n",
    "    #firstorder_energy             3.181054e-01 3.788517e-03 3.394843e-01 2.936290e-01 0.836625242 1.523351e-01 3.663133e-01 2.593187e-01 1.123179e-01 2.473036e-03\n",
    "\n",
    "    dfres=data.frame(pValues)                           #sorok: rad.params in rad.param.group, oszlopok: alg-ok\n",
    "\n",
    "    #false discovery rate: FDR = FP / (FP + TP)\n",
    "    #oszloponkent (algoritmusonkent) tortenik a false discovery rate kompenzalas, mert kulonbozo alg.-kat akarunk osszehasonlitani\n",
    "    for(k in 1:(length(segmMethodNames)) ){ p.adjust(dfres[,k],method=\"fdr\") }\n",
    "\n",
    "    #install.packages(\"fdrtool\")\n",
    "    #library(\"fdrtool\")\n",
    "    #for(k in 1:(length(segmMethodNames)-1) ){ fdrtool(dfres[,k], statistic=\"pvalue\") }\n",
    "\n",
    "    #filter out p-value >= 5%; a kulonbseg nem szignifikans\n",
    "    #pValues[which(pValues>=0.05)]=0\n",
    "    #dfres[(which(dfres>=0.05,arr.ind=T))]=0\n",
    "\n",
    "    cat(\"\\n\")\n",
    "    \n",
    "    ############################################################################################################\n",
    "    #hmap_of_minusLogPValues_of_man_and_algi_vs_radPramsInGroup\n",
    "    if(show_heatmap_of_pvalues==T)\n",
    "    {\n",
    "        print(\"show_heatmap_of_pvalues\")\n",
    "        fun_show_heatmap_of_pvalues(prefix,bw,dfres)\n",
    "    }\n",
    "\n",
    "    ############################################################################################################\n",
    "    #corrplot_of_minusLogPValues_of_man_and_algi_vs_radPramsInGroup\n",
    "    #hmap_of_minusLogPValues_of_man_and_algi_vs_radPramsInGroup\n",
    "    if(show_corrplot_of_pvalues==T)\n",
    "    {\n",
    "        \n",
    "#Kivesszuk az UT algoritmust, mert nehezen magyarazhato, hogy miert hasonlit kevesbe a manualis maszkhoz mint azok amikbol szamolva lett (RG+FCM). \n",
    "#Valoszinuleg szamolasi hiba van az UT szamolasakor. A ket hasonlosagi parameter (-log fisher-p-value) koze, jobb esetben ala keleltt volna skalazodnia.\n",
    "\n",
    "        dfres$UT=NULL\n",
    "        \n",
    "        print(\"show_corrplot_of_pvalues\")\n",
    "        fun_show_corrplot_of_pvalues(prefix,bw,dfres)\n",
    "    }\n",
    "\n",
    "    if( show_ggboxplot_of_pvalues==T || show_corrplot_of_pairwise_wilcox_of_pvalues==T )\n",
    "    {\n",
    "        print(\"show_ggboxplot_of_pvalues | show_corrplot_of_pairwise_wilcox_of_pvalues\")\n",
    "        #a pValues matrixot atalakitom olyan data.frame-re, hogy elso oszlopban lesznek a p-value ertekek a manualis es algi-bol szamolva, masodik oszlopban az algoritmusok, kvazi faktorvaltozokent\n",
    "        DF=data.frame(-log(dfres[,1]),colnames(dfres)[1])   #a 2. oszlop egy factor valtozo lesz (dfres oszlopai = alg.-ok)  itt az elso oszlopot (alg-t) vesszuk ki (\"AC\").\n",
    "        for(i1 in 2:length(segmMethodNames))                #itt a tobbit\n",
    "        {\n",
    "            DF2=data.frame(-log(dfres[,i1]),colnames(dfres)[i1])\n",
    "            DF=rbind(as.matrix(DF),as.matrix(DF2))\n",
    "        }\n",
    "        DATA.FRAME=data.frame(DF)\n",
    "        #    colnames(DATA.FRAME)=c(\"-log(p-value with FDR)\",\"algorithm\")\n",
    "        colnames(DATA.FRAME)=c(\"neg_log_p_val_w_FDR\",\"algorithm\")\n",
    "        DATA.FRAME[,1]=round(as.numeric(as.character(DATA.FRAME[,1])),2)\n",
    "\n",
    "        ############################################################################################################\n",
    "        #paronkenti wilcoxon test-et futtat az alg-ok osszehason-ra (a stat sokasagok nem norm. eloszlasuak /ezert wilcox \n",
    "        #es nem student-t/), hogy vajon\n",
    "        #a sokasasgok mean-jei mennyire ternek el egymastol. Ha a p-value < 5%, akkor kulonboznek. Ha tobb sokasagot \n",
    "        #hasonlitunk ossze egyszerre, arra kruskal-wallis ad p-value-t\n",
    "        #rm -rf ~/R/x86_64-pc-linux-gnu-library/3.4/00LOCK-rlang/\n",
    "        # install.packages(\"https://cran.r-project.org/src/contrib/rlang_1.0.6.tar.gz\",repos=NULL,type=\"source\")\n",
    "        if(show_ggboxplot_of_pvalues==T)            \n",
    "        {\n",
    "            print(\"   show_ggboxplot_of_pvalues\")\n",
    "            fun_show_ggboxplot_of_pvalues(prefix,bw,DATA.FRAME,segmMethodNames)\n",
    "        }\n",
    "\n",
    "        ############################################################################################################\n",
    "        #heatmap-es abrazolas, megnezem, hogy az egyes alg-okhoz tartozo radiomics params, ha osszefuggo adatokat alkotnanak \n",
    "        #(=egy populaciohoz tartoznanak), (abban az ertelemben egyformak, hogy mindegyik p-value), milyen tavol vannak egymastol\n",
    "        if(show_corrplot_of_pairwise_wilcox_of_pvalues==T)\n",
    "        {\n",
    "            print(\"   show_corrplot_of_pairwise_wilcox_of_pvalues\")\n",
    "            fun_show_corrplot_of_pairwise_wilcox_of_pvalues(prefix,bw,segmMethodNames,DATA.FRAME)\n",
    "        }\n",
    "\n",
    "    }\n",
    "        \n",
    "    #################################################################################\n",
    "    #Fisher Modszer, fuggetlen p-value-ek osszekombinalasara rad. param csoportonkent = egy sor megfelel egy csoporton beluli p-value-k osszekombinalasanak\n",
    "    if(calc_fisherM_of_pvalues==T)\n",
    "    {\n",
    "        print(\"fisher calc\")\n",
    "        library(\"poolr\")\n",
    "        rowIndex = grep(radiomicsGroupName,radiomicsGroupNames)         # 1...7 (7 rad.para.group letezik)\n",
    "        \n",
    "        #korrelacios matrix gyartasa a fisher modszerhez, mert a kulonbozo parameterek nem fuggetlenek egymastol\n",
    "        r<-cor(t(dfres))\n",
    "        fm[rowIndex,] = apply(dfres,2,fisherM,r)                          #apply() masodik parametere = 2, mert a dfres oszlopaibol(=alg-ok, osszesen 12db) csinal vektort es arra alkalmazza a fisherM-et. dfres sorai = rad.params in rad.param.group\n",
    "    }\n",
    "\n",
    "}#end of radiomicsGroupNames loop\n",
    "\n",
    "options(warn = oldw)     #warnings visszakapcs"
   ]
  },
  {
   "cell_type": "code",
   "execution_count": 15,
   "metadata": {
    "tags": []
   },
   "outputs": [
    {
     "name": "stdout",
     "output_type": "stream",
     "text": [
      "segmMethodName:  UT  from:  AC FCM GMM KM MAJ_6_3 MAJ_6_4 MAJ_6_5 MAJ_6_6 nnunet531 RG RW UT\n",
      " gldm  from  firstorder glcm shape glszm glrlm ngtdm gldm\n",
      " 53  in  40 41 42 43 44 45 46 47 48 49 50 51 52 53\n",
      "\n",
      "manual & UT , param:  gldm \n",
      " num [1:43] 0.1162 0.0541 0.0732 0.0732 0.0796 ...\n",
      " num [1:43] 0.258 0.255 0.482 0.282 0.221 ...\n"
     ]
    },
    {
     "data": {
      "text/plain": [
       "\n",
       "\tWilcoxon rank sum test with continuity correction\n",
       "\n",
       "data:  manualRadParams and segmMethodRadParams\n",
       "W = 247.5, p-value = 8.488e-09\n",
       "alternative hypothesis: true location shift is not equal to 0\n"
      ]
     },
     "metadata": {},
     "output_type": "display_data"
    },
    {
     "name": "stdout",
     "output_type": "stream",
     "text": [
      "\n",
      "W: 242"
     ]
    }
   ],
   "source": [
    "#itt csak tanulom a wilcoxon tesztet\n",
    "\n",
    "cat(\"segmMethodName: \",segmMethodName,\" from: \",segmMethodNames)\n",
    "cat(\"\\n\",radiomicsGroupName,\" from \",radiomicsGroupNames)\n",
    "cat(\"\\n\",i,\" in \",radParamsInGroup)\n",
    "\n",
    "cat(\"\\n\\n\")\n",
    "\n",
    "#wilcox.test(manualRadParams,segmMethodRadParams,exact=FALSE)$p.value\n",
    "cat(\"manual &\",segmMethodName, \", param: \",radiomicsGroupName,\"\\n\")\n",
    "str(manualRadParams)\n",
    "str(segmMethodRadParams)\n",
    "wilcox.test(manualRadParams,segmMethodRadParams,exact=FALSE)\n",
    "#wilcox.test(manualRadParams,segmMethodRadParams,exact=FALSE)$p.value\n",
    "\n",
    "\n",
    "#Mit is jelent a W a wilcox reportban:\n",
    "#https://library.virginia.edu/data/articles/the-wilcoxon-rank-sum-test\n",
    "#This is actually the number of times that a manualRadParams is less than a segmMethodRadParams.\n",
    "W <- 0\n",
    "for(ii in 1:length(segmMethodRadParams)){\n",
    "  for(jj in 1:length(manualRadParams)){\n",
    "    if(isTRUE(segmMethodRadParams[ii] < manualRadParams[jj]))    { W <- W + 1}\n",
    "  }\n",
    "}\n",
    "\n",
    "cat(\"\\nW:\",W)\n",
    "\n",
    "#sum(outer(segmMethodRadParams, manualRadParams, \"<\"))"
   ]
  },
  {
   "cell_type": "code",
   "execution_count": 16,
   "metadata": {},
   "outputs": [
    {
     "data": {
      "text/html": [
       "<table class=\"dataframe\">\n",
       "<caption>A matrix: 7 × 12 of type dbl</caption>\n",
       "<tbody>\n",
       "\t<tr><td>7.315482e-05</td><td>7.735161e-04</td><td>9.003615e-20</td><td>1.598623e-03</td><td>7.359690e-04</td><td>2.349577e-05</td><td>4.287523e-09</td><td>1.246364e-20</td><td>7.769664e-01</td><td>8.003369e-01</td><td>1.171901e-07</td><td>2.404505e-04</td></tr>\n",
       "\t<tr><td>3.416688e-26</td><td>3.175336e-25</td><td>1.275055e-56</td><td>4.707099e-24</td><td>2.460267e-25</td><td>1.435715e-30</td><td>5.703141e-41</td><td>2.292487e-56</td><td>3.288366e-04</td><td>8.333739e-06</td><td>5.579092e-35</td><td>2.623452e-28</td></tr>\n",
       "\t<tr><td>7.425315e-14</td><td>9.789559e-12</td><td>8.982306e-46</td><td>7.184567e-11</td><td>3.179968e-12</td><td>6.151372e-18</td><td>1.562541e-28</td><td>1.061556e-48</td><td>7.410252e-01</td><td>5.246159e-01</td><td>5.337639e-21</td><td>4.220809e-15</td></tr>\n",
       "\t<tr><td>7.496568e-20</td><td>6.104773e-33</td><td>9.962825e-64</td><td>5.693666e-28</td><td>1.031400e-31</td><td>1.779730e-32</td><td>4.646887e-53</td><td>7.848215e-63</td><td>2.126622e-02</td><td>1.566542e-04</td><td>1.008708e-45</td><td>3.549702e-34</td></tr>\n",
       "\t<tr><td>8.192636e-25</td><td>1.451893e-21</td><td>2.397066e-61</td><td>8.947893e-20</td><td>9.308146e-22</td><td>6.047472e-27</td><td>1.922512e-40</td><td>1.068235e-61</td><td>2.863398e-05</td><td>1.630363e-09</td><td>6.044897e-40</td><td>1.691527e-24</td></tr>\n",
       "\t<tr><td>1.990394e-07</td><td>4.715607e-07</td><td>3.362340e-15</td><td>1.168353e-06</td><td>3.399861e-07</td><td>9.580951e-09</td><td>1.756673e-11</td><td>4.577250e-16</td><td>4.295040e-02</td><td>1.709037e-03</td><td>3.204539e-09</td><td>1.243153e-07</td></tr>\n",
       "\t<tr><td>3.904709e-07</td><td>1.059815e-07</td><td>1.844053e-18</td><td>5.628553e-07</td><td>9.958345e-08</td><td>9.961292e-09</td><td>7.171395e-13</td><td>6.977317e-19</td><td>1.774412e-02</td><td>1.892433e-02</td><td>3.384134e-11</td><td>1.974101e-08</td></tr>\n",
       "</tbody>\n",
       "</table>\n"
      ],
      "text/latex": [
       "A matrix: 7 × 12 of type dbl\n",
       "\\begin{tabular}{llllllllllll}\n",
       "\t 7.315482e-05 & 7.735161e-04 & 9.003615e-20 & 1.598623e-03 & 7.359690e-04 & 2.349577e-05 & 4.287523e-09 & 1.246364e-20 & 7.769664e-01 & 8.003369e-01 & 1.171901e-07 & 2.404505e-04\\\\\n",
       "\t 3.416688e-26 & 3.175336e-25 & 1.275055e-56 & 4.707099e-24 & 2.460267e-25 & 1.435715e-30 & 5.703141e-41 & 2.292487e-56 & 3.288366e-04 & 8.333739e-06 & 5.579092e-35 & 2.623452e-28\\\\\n",
       "\t 7.425315e-14 & 9.789559e-12 & 8.982306e-46 & 7.184567e-11 & 3.179968e-12 & 6.151372e-18 & 1.562541e-28 & 1.061556e-48 & 7.410252e-01 & 5.246159e-01 & 5.337639e-21 & 4.220809e-15\\\\\n",
       "\t 7.496568e-20 & 6.104773e-33 & 9.962825e-64 & 5.693666e-28 & 1.031400e-31 & 1.779730e-32 & 4.646887e-53 & 7.848215e-63 & 2.126622e-02 & 1.566542e-04 & 1.008708e-45 & 3.549702e-34\\\\\n",
       "\t 8.192636e-25 & 1.451893e-21 & 2.397066e-61 & 8.947893e-20 & 9.308146e-22 & 6.047472e-27 & 1.922512e-40 & 1.068235e-61 & 2.863398e-05 & 1.630363e-09 & 6.044897e-40 & 1.691527e-24\\\\\n",
       "\t 1.990394e-07 & 4.715607e-07 & 3.362340e-15 & 1.168353e-06 & 3.399861e-07 & 9.580951e-09 & 1.756673e-11 & 4.577250e-16 & 4.295040e-02 & 1.709037e-03 & 3.204539e-09 & 1.243153e-07\\\\\n",
       "\t 3.904709e-07 & 1.059815e-07 & 1.844053e-18 & 5.628553e-07 & 9.958345e-08 & 9.961292e-09 & 7.171395e-13 & 6.977317e-19 & 1.774412e-02 & 1.892433e-02 & 3.384134e-11 & 1.974101e-08\\\\\n",
       "\\end{tabular}\n"
      ],
      "text/markdown": [
       "\n",
       "A matrix: 7 × 12 of type dbl\n",
       "\n",
       "| 7.315482e-05 | 7.735161e-04 | 9.003615e-20 | 1.598623e-03 | 7.359690e-04 | 2.349577e-05 | 4.287523e-09 | 1.246364e-20 | 7.769664e-01 | 8.003369e-01 | 1.171901e-07 | 2.404505e-04 |\n",
       "| 3.416688e-26 | 3.175336e-25 | 1.275055e-56 | 4.707099e-24 | 2.460267e-25 | 1.435715e-30 | 5.703141e-41 | 2.292487e-56 | 3.288366e-04 | 8.333739e-06 | 5.579092e-35 | 2.623452e-28 |\n",
       "| 7.425315e-14 | 9.789559e-12 | 8.982306e-46 | 7.184567e-11 | 3.179968e-12 | 6.151372e-18 | 1.562541e-28 | 1.061556e-48 | 7.410252e-01 | 5.246159e-01 | 5.337639e-21 | 4.220809e-15 |\n",
       "| 7.496568e-20 | 6.104773e-33 | 9.962825e-64 | 5.693666e-28 | 1.031400e-31 | 1.779730e-32 | 4.646887e-53 | 7.848215e-63 | 2.126622e-02 | 1.566542e-04 | 1.008708e-45 | 3.549702e-34 |\n",
       "| 8.192636e-25 | 1.451893e-21 | 2.397066e-61 | 8.947893e-20 | 9.308146e-22 | 6.047472e-27 | 1.922512e-40 | 1.068235e-61 | 2.863398e-05 | 1.630363e-09 | 6.044897e-40 | 1.691527e-24 |\n",
       "| 1.990394e-07 | 4.715607e-07 | 3.362340e-15 | 1.168353e-06 | 3.399861e-07 | 9.580951e-09 | 1.756673e-11 | 4.577250e-16 | 4.295040e-02 | 1.709037e-03 | 3.204539e-09 | 1.243153e-07 |\n",
       "| 3.904709e-07 | 1.059815e-07 | 1.844053e-18 | 5.628553e-07 | 9.958345e-08 | 9.961292e-09 | 7.171395e-13 | 6.977317e-19 | 1.774412e-02 | 1.892433e-02 | 3.384134e-11 | 1.974101e-08 |\n",
       "\n"
      ],
      "text/plain": [
       "     [,1]         [,2]         [,3]         [,4]         [,5]        \n",
       "[1,] 7.315482e-05 7.735161e-04 9.003615e-20 1.598623e-03 7.359690e-04\n",
       "[2,] 3.416688e-26 3.175336e-25 1.275055e-56 4.707099e-24 2.460267e-25\n",
       "[3,] 7.425315e-14 9.789559e-12 8.982306e-46 7.184567e-11 3.179968e-12\n",
       "[4,] 7.496568e-20 6.104773e-33 9.962825e-64 5.693666e-28 1.031400e-31\n",
       "[5,] 8.192636e-25 1.451893e-21 2.397066e-61 8.947893e-20 9.308146e-22\n",
       "[6,] 1.990394e-07 4.715607e-07 3.362340e-15 1.168353e-06 3.399861e-07\n",
       "[7,] 3.904709e-07 1.059815e-07 1.844053e-18 5.628553e-07 9.958345e-08\n",
       "     [,6]         [,7]         [,8]         [,9]         [,10]       \n",
       "[1,] 2.349577e-05 4.287523e-09 1.246364e-20 7.769664e-01 8.003369e-01\n",
       "[2,] 1.435715e-30 5.703141e-41 2.292487e-56 3.288366e-04 8.333739e-06\n",
       "[3,] 6.151372e-18 1.562541e-28 1.061556e-48 7.410252e-01 5.246159e-01\n",
       "[4,] 1.779730e-32 4.646887e-53 7.848215e-63 2.126622e-02 1.566542e-04\n",
       "[5,] 6.047472e-27 1.922512e-40 1.068235e-61 2.863398e-05 1.630363e-09\n",
       "[6,] 9.580951e-09 1.756673e-11 4.577250e-16 4.295040e-02 1.709037e-03\n",
       "[7,] 9.961292e-09 7.171395e-13 6.977317e-19 1.774412e-02 1.892433e-02\n",
       "     [,11]        [,12]       \n",
       "[1,] 1.171901e-07 2.404505e-04\n",
       "[2,] 5.579092e-35 2.623452e-28\n",
       "[3,] 5.337639e-21 4.220809e-15\n",
       "[4,] 1.008708e-45 3.549702e-34\n",
       "[5,] 6.044897e-40 1.691527e-24\n",
       "[6,] 3.204539e-09 1.243153e-07\n",
       "[7,] 3.384134e-11 1.974101e-08"
      ]
     },
     "metadata": {},
     "output_type": "display_data"
    }
   ],
   "source": [
    "fm"
   ]
  },
  {
   "cell_type": "code",
   "execution_count": 17,
   "metadata": {
    "tags": []
   },
   "outputs": [
    {
     "name": "stdout",
     "output_type": "stream",
     "text": [
      "segmMethodName:  UT , from:  AC FCM GMM KM MAJ_6_3 MAJ_6_4 MAJ_6_5 MAJ_6_6 nnunet531 RG RW UT\n",
      "\n"
     ]
    }
   ],
   "source": [
    "#csoportonkent tartalmaz p ertekekekt pValues -> dfres \n",
    "#minden egyben pVals -> dfresAll\n",
    "\n",
    "#Az utobbit fdr-ezem meg itt\n",
    "\n",
    "cat(\"segmMethodName: \",segmMethodName,\", from: \",segmMethodNames)\n",
    "cat(\"\\n\\n\")\n",
    "\n",
    "#A radiomicsGroupNames-en gyalogol vegig a legkulso for ciklus, igy a sornevek jok lesznek\n",
    "rownames(fm) = radiomicsGroupNames\n",
    "colnames(fm) = segmMethodNames\n",
    "\n",
    "#####################################################################\n",
    "#Az osszes rad.param-ra alg-onkent False Discovery Rate-et alkalmazok\n",
    "dfresAll=data.frame(PVals)                           #sorok: rad.params in rad.param.group, oszlopok: alg-ok\n",
    "\n",
    "#false discovery rate: FDR = FP / (FP + TP)\n",
    "#oszloponkent (algoritmusonkent) tortenik a false discovery rate kompenzalas, mert kulonbozo alg.-kat akarunk osszehasonlitani\n",
    "\n",
    "for(k in 1:(length(segmMethodNames)) ){ p.adjust(dfresAll[,k],method=\"fdr\") }"
   ]
  },
  {
   "cell_type": "code",
   "execution_count": 18,
   "metadata": {},
   "outputs": [
    {
     "name": "stdout",
     "output_type": "stream",
     "text": [
      "segmMethodName:  UT , from:  AC FCM GMM KM MAJ_6_3 MAJ_6_4 MAJ_6_5 MAJ_6_6 nnunet531 RG RW UT\n",
      "\n"
     ]
    },
    {
     "data": {
      "image/png": "[encoded data removed]",
      "text/plain": [
       "Plot with title “Histogram of manualRadParams”"
      ]
     },
     "metadata": {
      "image/png": {
       "height": 600,
       "width": 600
      }
     },
     "output_type": "display_data"
    },
    {
     "data": {
      "image/png": "[encoded data removed]",
      "text/plain": [
       "Plot with title “Histogram of segmMethodRadParams”"
      ]
     },
     "metadata": {
      "image/png": {
       "height": 600,
       "width": 600
      }
     },
     "output_type": "display_data"
    },
    {
     "data": {
      "image/png": "[encoded data removed]",
      "text/plain": [
       "plot without title"
      ]
     },
     "metadata": {
      "image/png": {
       "height": 600,
       "width": 600
      }
     },
     "output_type": "display_data"
    }
   ],
   "source": [
    "#csak probalkozas\n",
    "#vajon mennyire normalisak a  legutolso radparamhoz tartozo  man es a legutolso segm modszerhez tartozo p ertekek?\n",
    "cat(\"segmMethodName: \",segmMethodName,\", from: \",segmMethodNames)\n",
    "cat(\"\\n\\n\")\n",
    "\n",
    "hist(manualRadParams,breaks=50)\n",
    "hist(segmMethodRadParams,breaks=50)\n",
    "qqplot(manualRadParams,segmMethodRadParams)\n"
   ]
  },
  {
   "cell_type": "code",
   "execution_count": 34,
   "metadata": {
    "tags": []
   },
   "outputs": [
    {
     "name": "stdout",
     "output_type": "stream",
     "text": [
      "[1] \"calc_fisherM_of_pvalues\"\n"
     ]
    },
    {
     "name": "stderr",
     "output_type": "stream",
     "text": [
      "Warning message in dir.create(dn):\n",
      "“'./figurak/queried_CSVs/_bw__hmap_and_barplot_of_minusLogFisherPValues_of_man_and_algi_vs_radParamGroups' already exists”\n"
     ]
    },
    {
     "data": {
      "text/html": [
       "<strong>png:</strong> 2"
      ],
      "text/latex": [
       "\\textbf{png:} 2"
      ],
      "text/markdown": [
       "**png:** 2"
      ],
      "text/plain": [
       "png \n",
       "  2 "
      ]
     },
     "metadata": {},
     "output_type": "display_data"
    }
   ],
   "source": [
    "# #vesszuk a negativ logaritmusat a Fisher p ertkekenek rad. par. csoportonkent\n",
    "\n",
    "#Kivesszuk az UT algoritmust, mert nehezen magyarazhato, hogy miert hasonlit kevesbe a manualis maszkhoz mint azok amikbol szamolva lett (RG+FCM). \n",
    "#Valoszinuleg szamolasi hiba van az UT szamolasakor. A ket hasonlosagi parameter (-log fisher-p-value) koze, jobb esetben ala keleltt volna skalazodnia.\n",
    "fm=fm[,1:11]\n",
    "\n",
    "if(calc_fisherM_of_pvalues==T)\n",
    "{\n",
    "    print(\"calc_fisherM_of_pvalues\")\n",
    "    \n",
    "    dn=paste0(\"./figurak/\",prefix,\"_bw_\",bw,\"_hmap_and_barplot_of_minusLogFisherPValues_of_man_and_algi_vs_radParamGroups/\")\n",
    "    dir.create(dn)\n",
    "    fn=paste0(\"excluded_tmp_\",\"_\")   # excluded = ki van zarva egy par first order parameter\n",
    "    png(file=paste0(dn,fn,\".png\"),width=1000,height=1000)\n",
    "    #fun_calc_fisherM_of_pvalues(prefix,bw,radiomicsGroupNames,segmMethodNames,fm)\n",
    "    corrplot( -log10(as.matrix(fm)), is.corr=F, tl.cex = 2,cl.cex=1.3)\n",
    "    dev.off()\n",
    "\n",
    "    cairo_ps(file=paste0(dn,fn,\".eps\")) #,width=1000,height=1000\n",
    "    corrplot( -log10(as.matrix(fm)), is.corr=F, tl.cex = 1, cl.cex=.75)\n",
    "    dev.off()    \n",
    "    \n",
    "    fn=paste0(\"excluded_tmp_hmap_\",\"_\")   # excluded = ki van zarva egy par first order parameter\n",
    "    png(file=paste0(dn,fn,\".png\"),width=1000,height=1000)\n",
    "    p2=heatmap(-log10(fm),scale=\"none\",Rowv=NA, Colv=NA)\n",
    "    dev.off() \n",
    "}\n",
    "#radGroupNames: 'firstorder''glcm''shape''glszm''glrlm''ngtdm''gldm'\n",
    "#segmMethodNames: 'fcm''gmm''km''ac''rg''rw''maj_6_3''maj_6_4''maj_6_5''maj_6_6''ut'"
   ]
  },
  {
   "cell_type": "code",
   "execution_count": 20,
   "metadata": {
    "tags": []
   },
   "outputs": [],
   "source": [
    "###########################################################################################################\n",
    "#alg-onkent osszeadom a rad.param.group-okhoz tartozo p-value-kat, igy jobban osszehasonlithatoak az alg-ok\n",
    "if(calc_sum_of_fisherM_of_pvalues==T)\n",
    "{\n",
    "    print(\"calc_sum_of_fisherM_of_pvalues\")\n",
    "    fun_calc_sum_of_fisherM_of_pvalues(prefix,bw,segmMethodNames,radiomicsGroupNames,fm)\n",
    "}"
   ]
  },
  {
   "cell_type": "code",
   "execution_count": 21,
   "metadata": {
    "tags": []
   },
   "outputs": [],
   "source": [
    "###########################################################################################################################\n",
    "#szuper fisher modszer = a fisher modszerrel osszekombinalt p-value-kat ujra fisher modszerrel osszekombinalom, majd -log()\n",
    "if(calc_super_fisherM_of_pvalues==T)\n",
    "{\n",
    "    print(\"calc_super_fisherM_of_pvalues\")\n",
    "    fun_calc_super_fisherM_of_pvalues(prefix,bw,fm,segmMethodNames)\n",
    "}\n",
    "\n"
   ]
  },
  {
   "cell_type": "code",
   "execution_count": 22,
   "metadata": {
    "tags": []
   },
   "outputs": [
    {
     "data": {
      "image/png": "[encoded data removed]",
      "text/plain": [
       "Plot with title “Histogram of as.numeric((dfres[1, ]))”"
      ]
     },
     "metadata": {
      "image/png": {
       "height": 600,
       "width": 600
      }
     },
     "output_type": "display_data"
    }
   ],
   "source": [
    "### Annak vizsgalta, hogy az egyes rad parametercsoportokban a parametereket leiro korrelacios matrix sorai mennyire kovetik a normalis eloszlast\n",
    "#itt a gldm rad param csoportot nezem az osszes alg fgv-ben\n",
    "#csak ranezesre vizsgalom, mennyire gauss alaku a histogram. Ez kell ahhoz, hogy az mvconv-ot lehessen hasznalni! Ld. lentebb ebben a cellaban\n",
    "#length(as.numeric((dfres[1,])))\n",
    "hist(as.numeric((dfres[1,])))  #12 oszlopa van a dfresnek=ahany alg. Rad.param. csoportonkent elter szamu parameter, pl gldm-nel 14\n",
    "\n",
    "#Ez nagyon normalis eloszlasu!!! irodalmi adat\n",
    "#hist(as.numeric(grid2ip.ld[1,]))\n",
    "\n",
    "#ez az idezet innen van: https://cran.r-project.org/web/packages/poolr/poolr.pdf\n",
    "# use mvnconv() to convert the LD correlation matrix into a matrix with the\n",
    "# correlations among the (two-sided) p-values assuming that the test\n",
    "# statistics follow a multivariate normal distribution with correlation\n",
    "# matrix r (note: 'side = 2' by default in mvnconv())"
   ]
  },
  {
   "cell_type": "code",
   "execution_count": 23,
   "metadata": {},
   "outputs": [
    {
     "data": {
      "text/html": [
       "<style>\n",
       ".list-inline {list-style: none; margin:0; padding: 0}\n",
       ".list-inline>li {display: inline-block}\n",
       ".list-inline>li:not(:last-child)::after {content: \"\\00b7\"; padding: 0 .5ex}\n",
       "</style>\n",
       "<ol class=list-inline><li>'AC'</li><li>'FCM'</li><li>'GMM'</li><li>'KM'</li><li>'MAJ_6_3'</li><li>'MAJ_6_4'</li><li>'MAJ_6_5'</li><li>'MAJ_6_6'</li><li>'nnunet531'</li><li>'RG'</li><li>'RW'</li><li>'UT'</li></ol>\n"
      ],
      "text/latex": [
       "\\begin{enumerate*}\n",
       "\\item 'AC'\n",
       "\\item 'FCM'\n",
       "\\item 'GMM'\n",
       "\\item 'KM'\n",
       "\\item 'MAJ\\_6\\_3'\n",
       "\\item 'MAJ\\_6\\_4'\n",
       "\\item 'MAJ\\_6\\_5'\n",
       "\\item 'MAJ\\_6\\_6'\n",
       "\\item 'nnunet531'\n",
       "\\item 'RG'\n",
       "\\item 'RW'\n",
       "\\item 'UT'\n",
       "\\end{enumerate*}\n"
      ],
      "text/markdown": [
       "1. 'AC'\n",
       "2. 'FCM'\n",
       "3. 'GMM'\n",
       "4. 'KM'\n",
       "5. 'MAJ_6_3'\n",
       "6. 'MAJ_6_4'\n",
       "7. 'MAJ_6_5'\n",
       "8. 'MAJ_6_6'\n",
       "9. 'nnunet531'\n",
       "10. 'RG'\n",
       "11. 'RW'\n",
       "12. 'UT'\n",
       "\n",
       "\n"
      ],
      "text/plain": [
       " [1] \"AC\"        \"FCM\"       \"GMM\"       \"KM\"        \"MAJ_6_3\"   \"MAJ_6_4\"  \n",
       " [7] \"MAJ_6_5\"   \"MAJ_6_6\"   \"nnunet531\" \"RG\"        \"RW\"        \"UT\"       "
      ]
     },
     "metadata": {},
     "output_type": "display_data"
    },
    {
     "data": {
      "text/html": [
       "<style>\n",
       ".list-inline {list-style: none; margin:0; padding: 0}\n",
       ".list-inline>li {display: inline-block}\n",
       ".list-inline>li:not(:last-child)::after {content: \"\\00b7\"; padding: 0 .5ex}\n",
       "</style>\n",
       "<ol class=list-inline><li>'firstorder'</li><li>'glcm'</li><li>'shape'</li><li>'glszm'</li><li>'glrlm'</li><li>'ngtdm'</li><li>'gldm'</li></ol>\n"
      ],
      "text/latex": [
       "\\begin{enumerate*}\n",
       "\\item 'firstorder'\n",
       "\\item 'glcm'\n",
       "\\item 'shape'\n",
       "\\item 'glszm'\n",
       "\\item 'glrlm'\n",
       "\\item 'ngtdm'\n",
       "\\item 'gldm'\n",
       "\\end{enumerate*}\n"
      ],
      "text/markdown": [
       "1. 'firstorder'\n",
       "2. 'glcm'\n",
       "3. 'shape'\n",
       "4. 'glszm'\n",
       "5. 'glrlm'\n",
       "6. 'ngtdm'\n",
       "7. 'gldm'\n",
       "\n",
       "\n"
      ],
      "text/plain": [
       "[1] \"firstorder\" \"glcm\"       \"shape\"      \"glszm\"      \"glrlm\"     \n",
       "[6] \"ngtdm\"      \"gldm\"      "
      ]
     },
     "metadata": {},
     "output_type": "display_data"
    }
   ],
   "source": [
    "segmMethodNames\n",
    "radiomicsGroupNames"
   ]
  },
  {
   "cell_type": "code",
   "execution_count": 24,
   "metadata": {
    "tags": []
   },
   "outputs": [
    {
     "name": "stdout",
     "output_type": "stream",
     "text": [
      "[1] \"firstorder_90percentile\"\n",
      "[1] \"firstorder_maximum\"\n",
      "[1] \"firstorder_rootmeansquared\"\n",
      "[1] \"glcm_jointaverage\"\n",
      "[1] \"glcm_sumaverage\"\n",
      "[1] \"gldm_dependenceentropy\"\n",
      "[1] \"glrlm_graylevelvariance\"\n",
      "[1] \"glrlm_runentropy\"\n"
     ]
    }
   ],
   "source": [
    "#replaces p-values with NA if the distribution behind p-value is not normal\n",
    "tmp1=0\n",
    "for (p in 4:ncol(df))\n",
    "{   #df columns: parameters, lines algorithms, first 3 columns are administrative ones\n",
    "    c=0\n",
    "    for (s in segmMethodNames)\n",
    "    {  #manual is not examined here, that is the last column is ignored\n",
    "        if (goodOrnot[p-3,s]==1) #row: params, col: algs\n",
    "        {\n",
    "            c=c+1\n",
    "        }\n",
    "    }\n",
    "    if(c==12) #all of goodOrnot matrix is +1 (that is normal), ezek maradnak meg a fisher modszerhez, mert ezek normalis eloszlasuak\n",
    "    {\n",
    "        print(rownames(goodOrnot)[p-3])   #ha ebben a rad parameter eseteben minden segm alg normalis, akkor azokat osszegyujtom a tmp1-bes\n",
    "        tmp1=rbind(tmp1,dfresAll[p-3,])\n",
    "    }\n",
    "}\n",
    "tmp1=tmp1[-1,]  #first line is unnecessary and annoying"
   ]
  },
  {
   "cell_type": "code",
   "execution_count": 25,
   "metadata": {},
   "outputs": [
    {
     "data": {
      "text/html": [
       "<table class=\"dataframe\">\n",
       "<caption>A data.frame: 8 × 12</caption>\n",
       "<thead>\n",
       "\t<tr><th></th><th scope=col>AC</th><th scope=col>FCM</th><th scope=col>GMM</th><th scope=col>KM</th><th scope=col>MAJ_6_3</th><th scope=col>MAJ_6_4</th><th scope=col>MAJ_6_5</th><th scope=col>MAJ_6_6</th><th scope=col>nnunet531</th><th scope=col>RG</th><th scope=col>RW</th><th scope=col>UT</th></tr>\n",
       "\t<tr><th></th><th scope=col>&lt;dbl&gt;</th><th scope=col>&lt;dbl&gt;</th><th scope=col>&lt;dbl&gt;</th><th scope=col>&lt;dbl&gt;</th><th scope=col>&lt;dbl&gt;</th><th scope=col>&lt;dbl&gt;</th><th scope=col>&lt;dbl&gt;</th><th scope=col>&lt;dbl&gt;</th><th scope=col>&lt;dbl&gt;</th><th scope=col>&lt;dbl&gt;</th><th scope=col>&lt;dbl&gt;</th><th scope=col>&lt;dbl&gt;</th></tr>\n",
       "</thead>\n",
       "<tbody>\n",
       "\t<tr><th scope=row>firstorder_90percentile</th><td>1.200274e-01</td><td>0.1373948259</td><td>1.083696e-02</td><td>0.1591814820</td><td>0.1396955515</td><td>9.725641e-02</td><td>3.738678e-02</td><td>8.923091e-03</td><td>0.4514222</td><td>0.6194515891</td><td>4.602704e-02</td><td>0.1086806530</td></tr>\n",
       "\t<tr><th scope=row>firstorder_maximum</th><td>8.764309e-01</td><td>0.9105847217</td><td>9.586632e-01</td><td>0.9105847217</td><td>0.9105847217</td><td>9.105847e-01</td><td>9.140098e-01</td><td>9.194700e-01</td><td>0.7415288</td><td>0.8363204178</td><td>9.105847e-01</td><td>0.8431946329</td></tr>\n",
       "\t<tr><th scope=row>firstorder_rootmeansquared</th><td>1.525564e-03</td><td>0.0030516329</td><td>1.061392e-06</td><td>0.0043690713</td><td>0.0028044281</td><td>6.879472e-04</td><td>5.297181e-05</td><td>5.562131e-07</td><td>0.2166856</td><td>0.2586876090</td><td>8.500538e-05</td><td>0.0014409093</td></tr>\n",
       "\t<tr><th scope=row>glcm_jointaverage</th><td>9.311724e-01</td><td>0.0608990937</td><td>4.168620e-01</td><td>0.1139764761</td><td>0.0597187524</td><td>1.100778e-01</td><td>6.687544e-03</td><td>3.446995e-01</td><td>0.9098696</td><td>0.1772581985</td><td>4.568713e-05</td><td>0.0736568842</td></tr>\n",
       "\t<tr><th scope=row>glcm_sumaverage</th><td>9.311724e-01</td><td>0.0608990937</td><td>4.168620e-01</td><td>0.1139764761</td><td>0.0597187524</td><td>1.100778e-01</td><td>6.687544e-03</td><td>3.447019e-01</td><td>0.9098696</td><td>0.1772581985</td><td>4.568713e-05</td><td>0.0736568842</td></tr>\n",
       "\t<tr><th scope=row>shape_elongation</th><td>1.834864e-01</td><td>0.4268442937</td><td>2.151921e-01</td><td>0.3783278095</td><td>0.2920142978</td><td>4.654945e-01</td><td>7.103440e-01</td><td>1.635609e-01</td><td>0.7120232</td><td>0.3184489070</td><td>8.022218e-01</td><td>0.4957354337</td></tr>\n",
       "\t<tr><th scope=row>glszm_graylevelvariance</th><td>2.307561e-06</td><td>0.0006060640</td><td>6.672792e-13</td><td>0.0004538386</td><td>0.0008834179</td><td>2.030690e-06</td><td>6.991411e-09</td><td>1.267390e-12</td><td>0.4281152</td><td>0.0001839408</td><td>1.525889e-09</td><td>0.0001598474</td></tr>\n",
       "\t<tr><th scope=row>glszm_sizezonenonuniformity</th><td>1.577380e-02</td><td>0.0005506407</td><td>7.678336e-06</td><td>0.0025756416</td><td>0.0008302254</td><td>1.095360e-03</td><td>1.665630e-05</td><td>1.497368e-05</td><td>0.1743175</td><td>0.8397830478</td><td>4.829193e-05</td><td>0.0005337393</td></tr>\n",
       "</tbody>\n",
       "</table>\n"
      ],
      "text/latex": [
       "A data.frame: 8 × 12\n",
       "\\begin{tabular}{r|llllllllllll}\n",
       "  & AC & FCM & GMM & KM & MAJ\\_6\\_3 & MAJ\\_6\\_4 & MAJ\\_6\\_5 & MAJ\\_6\\_6 & nnunet531 & RG & RW & UT\\\\\n",
       "  & <dbl> & <dbl> & <dbl> & <dbl> & <dbl> & <dbl> & <dbl> & <dbl> & <dbl> & <dbl> & <dbl> & <dbl>\\\\\n",
       "\\hline\n",
       "\tfirstorder\\_90percentile & 1.200274e-01 & 0.1373948259 & 1.083696e-02 & 0.1591814820 & 0.1396955515 & 9.725641e-02 & 3.738678e-02 & 8.923091e-03 & 0.4514222 & 0.6194515891 & 4.602704e-02 & 0.1086806530\\\\\n",
       "\tfirstorder\\_maximum & 8.764309e-01 & 0.9105847217 & 9.586632e-01 & 0.9105847217 & 0.9105847217 & 9.105847e-01 & 9.140098e-01 & 9.194700e-01 & 0.7415288 & 0.8363204178 & 9.105847e-01 & 0.8431946329\\\\\n",
       "\tfirstorder\\_rootmeansquared & 1.525564e-03 & 0.0030516329 & 1.061392e-06 & 0.0043690713 & 0.0028044281 & 6.879472e-04 & 5.297181e-05 & 5.562131e-07 & 0.2166856 & 0.2586876090 & 8.500538e-05 & 0.0014409093\\\\\n",
       "\tglcm\\_jointaverage & 9.311724e-01 & 0.0608990937 & 4.168620e-01 & 0.1139764761 & 0.0597187524 & 1.100778e-01 & 6.687544e-03 & 3.446995e-01 & 0.9098696 & 0.1772581985 & 4.568713e-05 & 0.0736568842\\\\\n",
       "\tglcm\\_sumaverage & 9.311724e-01 & 0.0608990937 & 4.168620e-01 & 0.1139764761 & 0.0597187524 & 1.100778e-01 & 6.687544e-03 & 3.447019e-01 & 0.9098696 & 0.1772581985 & 4.568713e-05 & 0.0736568842\\\\\n",
       "\tshape\\_elongation & 1.834864e-01 & 0.4268442937 & 2.151921e-01 & 0.3783278095 & 0.2920142978 & 4.654945e-01 & 7.103440e-01 & 1.635609e-01 & 0.7120232 & 0.3184489070 & 8.022218e-01 & 0.4957354337\\\\\n",
       "\tglszm\\_graylevelvariance & 2.307561e-06 & 0.0006060640 & 6.672792e-13 & 0.0004538386 & 0.0008834179 & 2.030690e-06 & 6.991411e-09 & 1.267390e-12 & 0.4281152 & 0.0001839408 & 1.525889e-09 & 0.0001598474\\\\\n",
       "\tglszm\\_sizezonenonuniformity & 1.577380e-02 & 0.0005506407 & 7.678336e-06 & 0.0025756416 & 0.0008302254 & 1.095360e-03 & 1.665630e-05 & 1.497368e-05 & 0.1743175 & 0.8397830478 & 4.829193e-05 & 0.0005337393\\\\\n",
       "\\end{tabular}\n"
      ],
      "text/markdown": [
       "\n",
       "A data.frame: 8 × 12\n",
       "\n",
       "| <!--/--> | AC &lt;dbl&gt; | FCM &lt;dbl&gt; | GMM &lt;dbl&gt; | KM &lt;dbl&gt; | MAJ_6_3 &lt;dbl&gt; | MAJ_6_4 &lt;dbl&gt; | MAJ_6_5 &lt;dbl&gt; | MAJ_6_6 &lt;dbl&gt; | nnunet531 &lt;dbl&gt; | RG &lt;dbl&gt; | RW &lt;dbl&gt; | UT &lt;dbl&gt; |\n",
       "|---|---|---|---|---|---|---|---|---|---|---|---|---|\n",
       "| firstorder_90percentile | 1.200274e-01 | 0.1373948259 | 1.083696e-02 | 0.1591814820 | 0.1396955515 | 9.725641e-02 | 3.738678e-02 | 8.923091e-03 | 0.4514222 | 0.6194515891 | 4.602704e-02 | 0.1086806530 |\n",
       "| firstorder_maximum | 8.764309e-01 | 0.9105847217 | 9.586632e-01 | 0.9105847217 | 0.9105847217 | 9.105847e-01 | 9.140098e-01 | 9.194700e-01 | 0.7415288 | 0.8363204178 | 9.105847e-01 | 0.8431946329 |\n",
       "| firstorder_rootmeansquared | 1.525564e-03 | 0.0030516329 | 1.061392e-06 | 0.0043690713 | 0.0028044281 | 6.879472e-04 | 5.297181e-05 | 5.562131e-07 | 0.2166856 | 0.2586876090 | 8.500538e-05 | 0.0014409093 |\n",
       "| glcm_jointaverage | 9.311724e-01 | 0.0608990937 | 4.168620e-01 | 0.1139764761 | 0.0597187524 | 1.100778e-01 | 6.687544e-03 | 3.446995e-01 | 0.9098696 | 0.1772581985 | 4.568713e-05 | 0.0736568842 |\n",
       "| glcm_sumaverage | 9.311724e-01 | 0.0608990937 | 4.168620e-01 | 0.1139764761 | 0.0597187524 | 1.100778e-01 | 6.687544e-03 | 3.447019e-01 | 0.9098696 | 0.1772581985 | 4.568713e-05 | 0.0736568842 |\n",
       "| shape_elongation | 1.834864e-01 | 0.4268442937 | 2.151921e-01 | 0.3783278095 | 0.2920142978 | 4.654945e-01 | 7.103440e-01 | 1.635609e-01 | 0.7120232 | 0.3184489070 | 8.022218e-01 | 0.4957354337 |\n",
       "| glszm_graylevelvariance | 2.307561e-06 | 0.0006060640 | 6.672792e-13 | 0.0004538386 | 0.0008834179 | 2.030690e-06 | 6.991411e-09 | 1.267390e-12 | 0.4281152 | 0.0001839408 | 1.525889e-09 | 0.0001598474 |\n",
       "| glszm_sizezonenonuniformity | 1.577380e-02 | 0.0005506407 | 7.678336e-06 | 0.0025756416 | 0.0008302254 | 1.095360e-03 | 1.665630e-05 | 1.497368e-05 | 0.1743175 | 0.8397830478 | 4.829193e-05 | 0.0005337393 |\n",
       "\n"
      ],
      "text/plain": [
       "                            AC           FCM          GMM          KM          \n",
       "firstorder_90percentile     1.200274e-01 0.1373948259 1.083696e-02 0.1591814820\n",
       "firstorder_maximum          8.764309e-01 0.9105847217 9.586632e-01 0.9105847217\n",
       "firstorder_rootmeansquared  1.525564e-03 0.0030516329 1.061392e-06 0.0043690713\n",
       "glcm_jointaverage           9.311724e-01 0.0608990937 4.168620e-01 0.1139764761\n",
       "glcm_sumaverage             9.311724e-01 0.0608990937 4.168620e-01 0.1139764761\n",
       "shape_elongation            1.834864e-01 0.4268442937 2.151921e-01 0.3783278095\n",
       "glszm_graylevelvariance     2.307561e-06 0.0006060640 6.672792e-13 0.0004538386\n",
       "glszm_sizezonenonuniformity 1.577380e-02 0.0005506407 7.678336e-06 0.0025756416\n",
       "                            MAJ_6_3      MAJ_6_4      MAJ_6_5      MAJ_6_6     \n",
       "firstorder_90percentile     0.1396955515 9.725641e-02 3.738678e-02 8.923091e-03\n",
       "firstorder_maximum          0.9105847217 9.105847e-01 9.140098e-01 9.194700e-01\n",
       "firstorder_rootmeansquared  0.0028044281 6.879472e-04 5.297181e-05 5.562131e-07\n",
       "glcm_jointaverage           0.0597187524 1.100778e-01 6.687544e-03 3.446995e-01\n",
       "glcm_sumaverage             0.0597187524 1.100778e-01 6.687544e-03 3.447019e-01\n",
       "shape_elongation            0.2920142978 4.654945e-01 7.103440e-01 1.635609e-01\n",
       "glszm_graylevelvariance     0.0008834179 2.030690e-06 6.991411e-09 1.267390e-12\n",
       "glszm_sizezonenonuniformity 0.0008302254 1.095360e-03 1.665630e-05 1.497368e-05\n",
       "                            nnunet531 RG           RW           UT          \n",
       "firstorder_90percentile     0.4514222 0.6194515891 4.602704e-02 0.1086806530\n",
       "firstorder_maximum          0.7415288 0.8363204178 9.105847e-01 0.8431946329\n",
       "firstorder_rootmeansquared  0.2166856 0.2586876090 8.500538e-05 0.0014409093\n",
       "glcm_jointaverage           0.9098696 0.1772581985 4.568713e-05 0.0736568842\n",
       "glcm_sumaverage             0.9098696 0.1772581985 4.568713e-05 0.0736568842\n",
       "shape_elongation            0.7120232 0.3184489070 8.022218e-01 0.4957354337\n",
       "glszm_graylevelvariance     0.4281152 0.0001839408 1.525889e-09 0.0001598474\n",
       "glszm_sizezonenonuniformity 0.1743175 0.8397830478 4.829193e-05 0.0005337393"
      ]
     },
     "metadata": {},
     "output_type": "display_data"
    },
    {
     "data": {
      "text/html": [
       "'gldm'"
      ],
      "text/latex": [
       "'gldm'"
      ],
      "text/markdown": [
       "'gldm'"
      ],
      "text/plain": [
       "[1] \"gldm\""
      ]
     },
     "metadata": {},
     "output_type": "display_data"
    }
   ],
   "source": [
    "tmp1\n",
    "radiomicsGroupName"
   ]
  },
  {
   "cell_type": "code",
   "execution_count": 28,
   "metadata": {
    "tags": []
   },
   "outputs": [
    {
     "name": "stdout",
     "output_type": "stream",
     "text": [
      "[1] \"calc2_fisherM_of_pvalues\"\n"
     ]
    },
    {
     "name": "stderr",
     "output_type": "stream",
     "text": [
      "Warning message:\n",
      "“Matrix 'R' is not positive definite. Used Matrix::nearPD() to make 'R' positive definite.”\n",
      "Warning message:\n",
      "“Matrix 'R' is not positive definite. Used Matrix::nearPD() to make 'R' positive definite.”\n",
      "Warning message:\n",
      "“Matrix 'R' is not positive definite. Used Matrix::nearPD() to make 'R' positive definite.”\n",
      "Warning message:\n",
      "“Matrix 'R' is not positive definite. Used Matrix::nearPD() to make 'R' positive definite.”\n",
      "Warning message:\n",
      "“Matrix 'R' is not positive definite. Used Matrix::nearPD() to make 'R' positive definite.”\n",
      "Warning message:\n",
      "“Matrix 'R' is not positive definite. Used Matrix::nearPD() to make 'R' positive definite.”\n",
      "Warning message:\n",
      "“Matrix 'R' is not positive definite. Used Matrix::nearPD() to make 'R' positive definite.”\n",
      "Warning message:\n",
      "“Matrix 'R' is not positive definite. Used Matrix::nearPD() to make 'R' positive definite.”\n",
      "Warning message:\n",
      "“Matrix 'R' is not positive definite. Used Matrix::nearPD() to make 'R' positive definite.”\n",
      "Warning message:\n",
      "“Matrix 'R' is not positive definite. Used Matrix::nearPD() to make 'R' positive definite.”\n",
      "Warning message:\n",
      "“Matrix 'R' is not positive definite. Used Matrix::nearPD() to make 'R' positive definite.”\n",
      "Warning message in dir.create(dn):\n",
      "“'./figurak/queried_CSVs/_bw__histogram_of_minusLogFisherPValues_of_man_and_algi' already exists”\n"
     ]
    }
   ],
   "source": [
    "#ez a lenyeg ez adja meg a legutolso grafikont\n",
    "source('015_funcs.r')\n",
    "\n",
    "#Kivesszuk az UT algoritmust, mert nehezen magyarazhato, hogy miert hasonlit kevesbe a manualis maszkhoz mint azok amikbol szamolva lett (RG+FCM). \n",
    "#Valoszinuleg szamolasi hiba van az UT szamolasakor. A ket hasonlosagi parameter (-log fisher-p-value) koze, jobb esetben ala keleltt volna skalazodnia.\n",
    "tmp1$UT=NULL\n",
    "\n",
    "# #vesszuk a negativ logaritmusat a Fisher p ertkekenek, de nem csoportonkent, mint a korabbi fisher-es szamolasban\n",
    "if(calc2_fisherM_of_pvalues==T)\n",
    "{\n",
    "    print(\"calc2_fisherM_of_pvalues\")\n",
    "    fun_calc2_fisherM_of_pvalues(segmMethodNames,tmp2)   #,radiomicsGroupName,radiomicsGroupNames\n",
    "#    fun_calc2_fisherM_of_pvalues(segmMethodNames,dfresAll,radiomicsGroupName,radiomicsGroupNames)\n",
    "}"
   ]
  },
  {
   "cell_type": "code",
   "execution_count": 36,
   "metadata": {
    "tags": []
   },
   "outputs": [
    {
     "data": {
      "text/html": [
       "43.0506829368747"
      ],
      "text/latex": [
       "43.0506829368747"
      ],
      "text/markdown": [
       "43.0506829368747"
      ],
      "text/plain": [
       "[1] 43.05068"
      ]
     },
     "metadata": {},
     "output_type": "display_data"
    },
    {
     "data": {
      "text/html": [
       "1"
      ],
      "text/latex": [
       "1"
      ],
      "text/markdown": [
       "1"
      ],
      "text/plain": [
       "[1] 1\n",
       "attr(,\"df\")\n",
       "[1] 202"
      ]
     },
     "metadata": {},
     "output_type": "display_data"
    },
    {
     "data": {
      "image/png": "[encoded data removed]",
      "text/plain": [
       "plot without title"
      ]
     },
     "metadata": {
      "image/png": {
       "height": 600,
       "width": 600
      }
     },
     "output_type": "display_data"
    }
   ],
   "source": [
    "#mennyire normal vagy nem normal eloszlasu egy algoritmushoz tartozo rad. params. Semennyire\n",
    "p_data=dfresAll[,1]\n",
    "plot(as.numeric(p_data))\n",
    "stat=-2*sum(p_data*log(p_data))\n",
    "stat\n",
    "attr(stat,\"df\")=2*length(p_data)\n",
    "pchisq(stat, df = attr(stat,\"df\"), lower.tail = FALSE)"
   ]
  },
  {
   "cell_type": "code",
   "execution_count": 37,
   "metadata": {
    "tags": []
   },
   "outputs": [
    {
     "name": "stdout",
     "output_type": "stream",
     "text": [
      "[1] \"----\"\n",
      "[1] 43.05068\n",
      "[1] \"----\"\n",
      "[1] 48.13826\n",
      "[1] \"----\"\n",
      "[1] 46.46038\n",
      "[1] \"----\"\n",
      "[1] 45.88423\n",
      "[1] \"----\"\n",
      "[1] 43.82839\n",
      "[1] \"----\"\n",
      "[1] 46.43834\n",
      "[1] \"----\"\n",
      "[1] 43.05025\n",
      "[1] \"----\"\n",
      "[1] 43.80438\n",
      "[1] \"----\"\n",
      "[1] 45.52964\n",
      "[1] \"----\"\n",
      "[1] 51.26155\n",
      "[1] \"----\"\n",
      "[1] 48.09788\n",
      "[1] \"----\"\n",
      "[1] 42.3608\n"
     ]
    },
    {
     "data": {
      "image/png": "[encoded data removed]",
      "text/plain": [
       "plot without title"
      ]
     },
     "metadata": {
      "image/png": {
       "height": 600,
       "width": 600
      }
     },
     "output_type": "display_data"
    }
   ],
   "source": [
    "#megprobaltam a shannon fele informaciotartalmat becsempeszni a stat analizisbe, nem sikerult. De van egy ilyen szeru szamolt \n",
    "#parameter a pyradiomics parameterek kozott is.\n",
    "#source(\"015_funcs.r\")\n",
    "fisherMM <- function(p_data){\n",
    "    #data = -log10( apply(dfresAll,2,fisherM) )  \n",
    "    #^2 = -2 sum_{i=1}^k ln(p_i)\n",
    "    #fisher(data)$p\n",
    "#    S=0\n",
    "#    for(i in seq(1,length(data)))\n",
    "#    {\n",
    "#        #print(paste0(\"i: \",i,\", \",data[i]))\n",
    "#        S=S-2*log(data[i])    # X^2 = -2 sum_{i=1}^k ln(p_i). \n",
    "#    }\n",
    "#    return(S)\n",
    "    statistic=-2*sum(p_data*log(p_data))   #ez pont ugyanaz mint a student-t nel a proba fgv. amibol a p erteket kell meghatarozni\n",
    "    k <- length(p_data)                    #ez a szabadsagi fokok szama\n",
    "    print(\"----\")\n",
    "    print(statistic)\n",
    "    #print(head(p_data*log(p_data)))\n",
    "    attr(statistic, \"df\") <- 2 * k\n",
    "    #distribution function of for chi squared distribution (chi^2)\n",
    "    pval <- pchisq(statistic, df = 2 * k, lower.tail = FALSE)       #maga a proba statisztikahoz rendelt p-value. A lower.tail=FALSE azt jelenti, hogy mi annak a valsege, hogy a valsegi valtozo a proba\n",
    "                                                                    #statisztikanal nagyobb erteket vesz fel == a proba stat.-tol jobbra eso gorbe alatti terulet erdekel. \n",
    "                                                                    #Uaz mintha 1-bol vonnam ki a default (lower.tail=TRUE-nak megfelelo) erteket\n",
    "    #res <- list(p = c(pval), ci = NULL, k = k, m = NULL, adjust = \"none\", \n",
    "    #    statistic = statistic, size = NULL, fun = as.character(sys.call()[1]))\n",
    "    #return(res)\n",
    "    #print(pval)\n",
    "    return(pval)\n",
    "}\n",
    "\n",
    "data = (apply(dfresAll,2,fisherMM))                  #apply() masodik parametere = 2, mert a dfresAll oszlopaibol(=alg-ok, osszesen 11db) csinal vektort es arra alkalmazza\n",
    "\n",
    "barplot(data,names.arg=names(data),xlab=\"algorithms\",ylab=\"Fisher combined p-values\")\n",
    "\n",
    "# #vesszuk a negativ logaritmusat a Fisher p ertkekenek, de nem csoportonkent, mint a korabbi fisher-es szamolasban\n",
    "#if(calc2_fisherM_of_pvalues==T)\n",
    "#{\n",
    "#    fun_calc3_fisherM_of_pvalues(dfresAll)\n",
    "#}"
   ]
  }
 ],
 "metadata": {
  "kernelspec": {
   "display_name": "R",
   "language": "R",
   "name": "ir"
  },
  "language_info": {
   "codemirror_mode": "r",
   "file_extension": ".r",
   "mimetype": "text/x-r-source",
   "name": "R",
   "pygments_lexer": "r",
   "version": "4.1.0"
  },
  "toc-autonumbering": true,
  "toc-showmarkdowntxt": true,
  "toc-showtags": true
 },
 "nbformat": 4,
 "nbformat_minor": 4
}
